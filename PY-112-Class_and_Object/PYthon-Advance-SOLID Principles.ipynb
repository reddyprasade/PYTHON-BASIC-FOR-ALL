{
 "cells": [
  {
   "attachments": {},
   "cell_type": "markdown",
   "id": "5089e9a6-2fcb-4979-a7c6-e8a769036234",
   "metadata": {},
   "source": [
    "### Introduction to the Liskov substitution \n",
    "\r",
    "- \n",
    "The Liskov substitution principle (LSV) is one of the five principles in the** SOLID principle**s\n",
    "\n",
    "![](https://learnbatta.com/assets/images/solid-principles-python.png)\n",
    "<h3> Base class should be interchangeable  with any of its subclasses without  altering any properties of the  program</h3>\n",
    "\n",
    "-  The L in SOLID stands for the Liskov substitution principle\n",
    "- **S** – Single Responsibility Principle\n",
    "- **\n",
    "**O – Open-closed Principl\n",
    "- **\r",
    "**\n",
    "L – Liskov Substitution Princip\n",
    "- **e**\r\n",
    "I – Interface Segregation Princi\n",
    "- **l**e\r\n",
    "D – Dependency Inversion Principle."
   ]
  },
  {
   "cell_type": "code",
   "execution_count": 1,
   "id": "fb992a38-4575-4742-aaad-015814e20869",
   "metadata": {},
   "outputs": [],
   "source": [
    "from abc import ABC, abstractmethod"
   ]
  },
  {
   "cell_type": "code",
   "execution_count": 4,
   "id": "9dadcc24-bf48-4a2d-8bb7-ec94bdc46543",
   "metadata": {},
   "outputs": [
    {
     "name": "stdout",
     "output_type": "stream",
     "text": [
      "Send Hello From WhatUP app to john@test.com\n"
     ]
    }
   ],
   "source": [
    "class Notification(ABC):    # Parrent Class \n",
    "    @abstractmethod\n",
    "    def notify(self, message, email):\n",
    "        pass\n",
    "        \n",
    "class Email(Notification):   # Child Class\n",
    "    def notify(self, message, email):\n",
    "        print(f'Send {message} to {email}')\n",
    "\n",
    "class SMS(Notification):  # Child Class\n",
    "    def notify(self, message, phone):\n",
    "        print(f'Send {message} to {phone}')\n",
    "\n",
    "class whatapp_SMS(Notification):  # Child Class\n",
    "    def notify(self, message, phone):\n",
    "        print(f'Send {message} to {phone}')\n",
    "\n",
    "\n",
    "\n",
    "if __name__ == '__main__':\n",
    "    notification = whatapp_SMS()\n",
    "    notification.notify('Hello From WhatUP app', 'john@test.com')"
   ]
  },
  {
   "cell_type": "code",
   "execution_count": 10,
   "id": "3ae4fdc2-44a4-45a0-a233-71698599df5f",
   "metadata": {},
   "outputs": [
    {
     "name": "stdout",
     "output_type": "stream",
     "text": [
      "Send Hello to 92483668190\n"
     ]
    }
   ],
   "source": [
    "class Contact:\n",
    "    def __init__(self, name, email, phone):\n",
    "        self.name = name\n",
    "        self.email = email\n",
    "        self.phone = phone\n",
    "\n",
    "\n",
    "class NotificationManager:\n",
    "    def __init__(self, notification, contact):\n",
    "        self.contact = contact\n",
    "        self.notification = notification\n",
    "\n",
    "    def send(self, message):\n",
    "        if isinstance(self.notification, Email):\n",
    "            self.notification.notify(message, contact.email)\n",
    "        elif isinstance(self.notification, SMS):\n",
    "            self.notification.notify(message, contact.phone)\n",
    "        else:\n",
    "            raise Exception('The notification is not supported')\n",
    "\n",
    "if __name__ == '__main__':\n",
    "    contact = Contact('Reddy','reddyprasade@gmail.com',92483668190)\n",
    "    notification_manager = NotificationManager(SMS(), contact)\n",
    "    notification_manager.send('Hello')\n"
   ]
  },
  {
   "cell_type": "code",
   "execution_count": 11,
   "id": "420c54ca-e280-46f2-a84c-ea0272acff42",
   "metadata": {},
   "outputs": [],
   "source": [
    "# First, redefine the notify() method of the Notification class so that it doesn’t include the email parameter: \n",
    "class Notification(ABC):\n",
    "    @abstractmethod\n",
    "    def notify(self, message):\n",
    "        pass"
   ]
  },
  {
   "cell_type": "code",
   "execution_count": 12,
   "id": "0290e6d0-4e59-4aec-8adb-5304970e9fb2",
   "metadata": {},
   "outputs": [],
   "source": [
    "# Second, add the email parameter to the __init__ method of the Email class:\n",
    "class Email(Notification):\n",
    "    def __init__(self, email):\n",
    "        self.email = email\n",
    "\n",
    "    def notify(self, message):\n",
    "        print(f'Send \"{message}\" to {self.email}')"
   ]
  },
  {
   "cell_type": "code",
   "execution_count": 13,
   "id": "a9cfd014-8695-457c-aad4-3baf9a375da5",
   "metadata": {},
   "outputs": [],
   "source": [
    "# Third, add the phone parameter to the __init__ method of the SMS class:\n",
    "class SMS(Notification):\n",
    "    def __init__(self, phone):\n",
    "        self.phone = phone\n",
    "\n",
    "    def notify(self, message):\n",
    "        print(f'Send \"{message}\" to {self.phone}')"
   ]
  },
  {
   "cell_type": "code",
   "execution_count": 14,
   "id": "b5d019df-3dd4-4ae4-b876-5891a186edf4",
   "metadata": {},
   "outputs": [],
   "source": [
    "# Fourth, change the NotificationManager class:\n",
    "class NotificationManager:\n",
    "    def __init__(self, notification):\n",
    "        self.notification = notification\n",
    "\n",
    "    def send(self, message):\n",
    "        self.notification.notify(message)"
   ]
  },
  {
   "cell_type": "code",
   "execution_count": 15,
   "id": "7047e3a0-120a-4baa-955c-18acda8dd979",
   "metadata": {},
   "outputs": [
    {
     "name": "stdout",
     "output_type": "stream",
     "text": [
      "Send \"Hello John\" to (408)-888-9999\n",
      "Send \"Hi John\" to john@test.com\n"
     ]
    }
   ],
   "source": [
    "from abc import ABC, abstractmethod\n",
    "\n",
    "\n",
    "class Notification(ABC):\n",
    "    @abstractmethod\n",
    "    def notify(self, message):\n",
    "        pass\n",
    "\n",
    "\n",
    "class Email(Notification):\n",
    "    def __init__(self, email):\n",
    "        self.email = email\n",
    "\n",
    "    def notify(self, message):\n",
    "        print(f'Send \"{message}\" to {self.email}')\n",
    "\n",
    "\n",
    "class SMS(Notification):\n",
    "    def __init__(self, phone):\n",
    "        self.phone = phone\n",
    "\n",
    "    def notify(self, message):\n",
    "        print(f'Send \"{message}\" to {self.phone}')\n",
    "\n",
    "\n",
    "class Contact:\n",
    "    def __init__(self, name, email, phone):\n",
    "        self.name = name\n",
    "        self.email = email\n",
    "        self.phone = phone\n",
    "\n",
    "\n",
    "class NotificationManager:\n",
    "    def __init__(self, notification):\n",
    "        self.notification = notification\n",
    "\n",
    "    def send(self, message):\n",
    "        self.notification.notify(message)\n",
    "\n",
    "\n",
    "if __name__ == '__main__':\n",
    "    contact = Contact('John Doe', 'john@test.com', '(408)-888-9999')\n",
    "\n",
    "    sms_notification = SMS(contact.phone)\n",
    "    email_notification = Email(contact.email)\n",
    "\n",
    "    notification_manager = NotificationManager(sms_notification)\n",
    "    notification_manager.send('Hello John')\n",
    "\n",
    "    notification_manager.notification = email_notification\n",
    "    notification_manager.send('Hi John')\n"
   ]
  },
  {
   "cell_type": "code",
   "execution_count": 23,
   "id": "f752820b-7387-4a51-b7ca-dbc145de1023",
   "metadata": {},
   "outputs": [],
   "source": [
    "# shapes_lsp.py\n",
    "\n",
    "class Rectangle:\n",
    "    def __init__(self, width, height):\n",
    "        self.width = width\n",
    "        self.height = height\n",
    "\n",
    "    def calculate_area(self):\n",
    "        return self.width * self.height"
   ]
  },
  {
   "cell_type": "code",
   "execution_count": 24,
   "id": "c3c01419-4bfc-4baf-8c27-0a893cb369e4",
   "metadata": {},
   "outputs": [],
   "source": [
    "square = Square(5)"
   ]
  },
  {
   "cell_type": "code",
   "execution_count": 25,
   "id": "53654b51-ba76-4370-a39a-cac14d6fff97",
   "metadata": {},
   "outputs": [
    {
     "data": {
      "text/plain": [
       "{'shape_type': 'square', 'side': 5}"
      ]
     },
     "execution_count": 25,
     "metadata": {},
     "output_type": "execute_result"
    }
   ],
   "source": [
    "vars(square)"
   ]
  },
  {
   "cell_type": "code",
   "execution_count": 26,
   "id": "871b969b-d936-45a2-884f-c04744293b6f",
   "metadata": {},
   "outputs": [],
   "source": [
    "square.width = 7"
   ]
  },
  {
   "cell_type": "code",
   "execution_count": 27,
   "id": "3792239e-da96-416d-9744-f470bc62508b",
   "metadata": {},
   "outputs": [],
   "source": [
    "square.height = 9"
   ]
  },
  {
   "cell_type": "code",
   "execution_count": 28,
   "id": "0e78f496-c177-47ba-9439-ee443c8440a5",
   "metadata": {},
   "outputs": [
    {
     "data": {
      "text/plain": [
       "{'shape_type': 'square', 'side': 5, 'width': 7, 'height': 9}"
      ]
     },
     "execution_count": 28,
     "metadata": {},
     "output_type": "execute_result"
    }
   ],
   "source": [
    "vars(square)"
   ]
  },
  {
   "cell_type": "code",
   "execution_count": 30,
   "id": "9437d83a-9b26-469d-b68f-ea9f4879a94c",
   "metadata": {},
   "outputs": [],
   "source": [
    "# shapes_lsp.py\n",
    "\n",
    "from abc import ABC, abstractmethod\n",
    "\n",
    "class Shape(ABC):\n",
    "    @abstractmethod\n",
    "    def calculate_area(self):\n",
    "        pass\n",
    "\n",
    "class Rectangle(Shape):\n",
    "    def __init__(self, width, height):\n",
    "        self.width = width\n",
    "        self.height = height\n",
    "\n",
    "    def calculate_area(self):\n",
    "        return self.width * self.height\n",
    "\n",
    "class Square(Shape):\n",
    "    def __init__(self, side):\n",
    "        self.side = side\n",
    "\n",
    "    def calculate_area(self):\n",
    "        return self.side ** 2"
   ]
  },
  {
   "cell_type": "code",
   "execution_count": 31,
   "id": "c0fe13b5-0e36-493e-b438-e0c9041b52a4",
   "metadata": {},
   "outputs": [
    {
     "data": {
      "text/plain": [
       "75"
      ]
     },
     "execution_count": 31,
     "metadata": {},
     "output_type": "execute_result"
    }
   ],
   "source": [
    "def get_total_area(shapes):\n",
    "    return sum(shape.calculate_area() for shape in shapes)\n",
    "get_total_area([Rectangle(10, 5), Square(5)])"
   ]
  },
  {
   "cell_type": "code",
   "execution_count": null,
   "id": "acdc7a07-39a0-4bb4-8b88-368825a08022",
   "metadata": {},
   "outputs": [],
   "source": []
  },
  {
   "cell_type": "markdown",
   "id": "1a8e5bf2-6ac4-4893-8b70-762ee8f316ea",
   "metadata": {},
   "source": [
    "### Single-Responsibility Principle (SRP)\n",
    "\n",
    "- A class should have only one reason to change.\n",
    "- This means that a class should have only one responsibility, as expressed through its methods. If a class takes care of more than one task, then you should separate those tasks into separate classes"
   ]
  },
  {
   "cell_type": "code",
   "execution_count": 16,
   "id": "efe7bb7e-ca44-4cde-9f36-3f53c53939b2",
   "metadata": {},
   "outputs": [],
   "source": [
    "# file_manager_srp.py\n",
    "\n",
    "from pathlib import Path\n",
    "from zipfile import ZipFile\n",
    "\n",
    "class FileManager:\n",
    "    def __init__(self, filename):\n",
    "        self.path = Path(filename)\n",
    "\n",
    "    def read(self, encoding=\"utf-8\"):\n",
    "        return self.path.read_text(encoding)\n",
    "\n",
    "    def write(self, data, encoding=\"utf-8\"):\n",
    "        self.path.write_text(data, encoding)\n",
    "\n",
    "    def compress(self):\n",
    "        with ZipFile(self.path.with_suffix(\".zip\"), mode=\"w\") as archive:\n",
    "            archive.write(self.path)\n",
    "\n",
    "    def decompress(self):\n",
    "        with ZipFile(self.path.with_suffix(\".zip\"), mode=\"r\") as archive:\n",
    "            archive.extractall()"
   ]
  },
  {
   "cell_type": "code",
   "execution_count": 17,
   "id": "a4401124-ebfe-4d78-8205-c32b34092c4f",
   "metadata": {},
   "outputs": [],
   "source": [
    "# file_manager_srp.py\n",
    "\n",
    "from pathlib import Path\n",
    "from zipfile import ZipFile\n",
    "\n",
    "class FileManager:\n",
    "    def __init__(self, filename):\n",
    "        self.path = Path(filename)\n",
    "\n",
    "    def read(self, encoding=\"utf-8\"):\n",
    "        return self.path.read_text(encoding)\n",
    "\n",
    "    def write(self, data, encoding=\"utf-8\"):\n",
    "        self.path.write_text(data, encoding)\n",
    "\n",
    "class ZipFileManager:\n",
    "    def __init__(self, filename):\n",
    "        self.path = Path(filename)\n",
    "\n",
    "    def compress(self):\n",
    "        with ZipFile(self.path.with_suffix(\".zip\"), mode=\"w\") as archive:\n",
    "            archive.write(self.path)\n",
    "\n",
    "    def decompress(self):\n",
    "        with ZipFile(self.path.with_suffix(\".zip\"), mode=\"r\") as archive:\n",
    "            archive.extractall()"
   ]
  },
  {
   "cell_type": "markdown",
   "id": "fc3f1337-feec-4798-8e45-40b223778478",
   "metadata": {},
   "source": [
    "### Open-Closed Principle (OCP)\n",
    "\n",
    "- Software entities (classes, modules, functions, etc.) should be open for extension, but closed for modification."
   ]
  },
  {
   "cell_type": "code",
   "execution_count": 18,
   "id": "736c9204-5338-4be6-a340-0d5dfa19fc44",
   "metadata": {},
   "outputs": [],
   "source": [
    "# shapes_ocp.py\n",
    "\n",
    "from math import pi\n",
    "\n",
    "class Shape:\n",
    "    def __init__(self, shape_type, **kwargs):\n",
    "        self.shape_type = shape_type\n",
    "        if self.shape_type == \"rectangle\":\n",
    "            self.width = kwargs[\"width\"]\n",
    "            self.height = kwargs[\"height\"]\n",
    "        elif self.shape_type == \"circle\":\n",
    "            self.radius = kwargs[\"radius\"]\n",
    "\n",
    "    def calculate_area(self):\n",
    "        if self.shape_type == \"rectangle\":\n",
    "            return self.width * self.height\n",
    "        elif self.shape_type == \"circle\":\n",
    "            return pi * self.radius**2"
   ]
  },
  {
   "cell_type": "code",
   "execution_count": 19,
   "id": "9bf562a7-49d9-4ed5-9eef-48360d46d468",
   "metadata": {},
   "outputs": [],
   "source": [
    "rectangle = Shape(\"rectangle\", width=10, height=5)"
   ]
  },
  {
   "cell_type": "code",
   "execution_count": 20,
   "id": "f4dd97f2-13c1-4182-8b4c-8b4e2348b155",
   "metadata": {},
   "outputs": [
    {
     "data": {
      "text/plain": [
       "50"
      ]
     },
     "execution_count": 20,
     "metadata": {},
     "output_type": "execute_result"
    }
   ],
   "source": [
    "rectangle.calculate_area()"
   ]
  },
  {
   "cell_type": "code",
   "execution_count": 21,
   "id": "d2551bfb-3148-432d-8340-c49bdf1fe514",
   "metadata": {},
   "outputs": [
    {
     "data": {
      "text/plain": [
       "78.53981633974483"
      ]
     },
     "execution_count": 21,
     "metadata": {},
     "output_type": "execute_result"
    }
   ],
   "source": [
    "circle = Shape(\"circle\", radius=5)  # Pir^2\n",
    "circle.calculate_area()"
   ]
  },
  {
   "cell_type": "code",
   "execution_count": 22,
   "id": "48417fa8-471b-4804-9914-81279768eac3",
   "metadata": {},
   "outputs": [],
   "source": [
    "# shapes_ocp.py\n",
    "\n",
    "from abc import ABC, abstractmethod\n",
    "from math import pi\n",
    "\n",
    "class Shape(ABC):\n",
    "    def __init__(self, shape_type):\n",
    "        self.shape_type = shape_type\n",
    "\n",
    "    @abstractmethod\n",
    "    def calculate_area(self):\n",
    "        pass\n",
    "\n",
    "class Circle(Shape):\n",
    "    def __init__(self, radius):\n",
    "        super().__init__(\"circle\")\n",
    "        self.radius = radius\n",
    "\n",
    "    def calculate_area(self):\n",
    "        return pi * self.radius**2\n",
    "\n",
    "class Rectangle(Shape):\n",
    "    def __init__(self, width, height):\n",
    "        super().__init__(\"rectangle\")\n",
    "        self.width = width\n",
    "        self.height = height\n",
    "\n",
    "    def calculate_area(self):\n",
    "        return self.width * self.height\n",
    "\n",
    "class Square(Shape):\n",
    "    def __init__(self, side):\n",
    "        super().__init__(\"square\")\n",
    "        self.side = side\n",
    "\n",
    "    def calculate_area(self):\n",
    "        return self.side**2"
   ]
  },
  {
   "cell_type": "markdown",
   "id": "0be98d53-95ea-4ac6-970c-7377dca50a3f",
   "metadata": {},
   "source": [
    "### Interface Segregation Principle (ISP)\n",
    "- Clients should not be forced to depend upon methods that they do not use. Interfaces belong to clients, not to hierarchies.\r\n"
   ]
  },
  {
   "cell_type": "code",
   "execution_count": 32,
   "id": "7d2e5295-ec32-493c-b90c-bfb4ac426684",
   "metadata": {},
   "outputs": [],
   "source": [
    "# printers_isp.py\n",
    "\n",
    "from abc import ABC, abstractmethod\n",
    "\n",
    "class Printer(ABC):\n",
    "    @abstractmethod\n",
    "    def print(self, document):\n",
    "        pass\n",
    "\n",
    "    @abstractmethod\n",
    "    def fax(self, document):\n",
    "        pass\n",
    "\n",
    "    @abstractmethod\n",
    "    def scan(self, document):\n",
    "        pass\n",
    "\n",
    "class OldPrinter(Printer):\n",
    "    def print(self, document):\n",
    "        print(f\"Printing {document} in black and white...\")\n",
    "\n",
    "    def fax(self, document):\n",
    "        raise NotImplementedError(\"Fax functionality not supported\")\n",
    "\n",
    "    def scan(self, document):\n",
    "        raise NotImplementedError(\"Scan functionality not supported\")\n",
    "\n",
    "class ModernPrinter(Printer):\n",
    "    def print(self, document):\n",
    "        print(f\"Printing {document} in color...\")\n",
    "\n",
    "    def fax(self, document):\n",
    "        print(f\"Faxing {document}...\")\n",
    "\n",
    "    def scan(self, document):\n",
    "        print(f\"Scanning {document}...\")"
   ]
  },
  {
   "cell_type": "code",
   "execution_count": 33,
   "id": "0cd0d7ee-6d5e-4350-85b1-0364d0258bd9",
   "metadata": {},
   "outputs": [],
   "source": [
    "# printers_isp.py\n",
    "\n",
    "from abc import ABC, abstractmethod\n",
    "\n",
    "class Printer(ABC):\n",
    "    @abstractmethod\n",
    "    def print(self, document):\n",
    "        pass\n",
    "\n",
    "class Fax(ABC):\n",
    "    @abstractmethod\n",
    "    def fax(self, document):\n",
    "        pass\n",
    "\n",
    "class Scanner(ABC):\n",
    "    @abstractmethod\n",
    "    def scan(self, document):\n",
    "        pass\n",
    "\n",
    "class OldPrinter(Printer):\n",
    "    def print(self, document):\n",
    "        print(f\"Printing {document} in black and white...\")\n",
    "\n",
    "class NewPrinter(Printer, Fax, Scanner):\n",
    "    def print(self, document):\n",
    "        print(f\"Printing {document} in color...\")\n",
    "\n",
    "    def fax(self, document):\n",
    "        print(f\"Faxing {document}...\")\n",
    "\n",
    "    def scan(self, document):\n",
    "        print(f\"Scanning {document}...\")"
   ]
  },
  {
   "cell_type": "markdown",
   "id": "57d5eda9-2582-4b56-abe6-ae2ef14fb5b2",
   "metadata": {},
   "source": [
    "### Dependency Inversion Principle (DIP)\n",
    "\n",
    "- **Abstractions** should not depend upon details. Details should depend upon abstractions."
   ]
  },
  {
   "cell_type": "code",
   "execution_count": 34,
   "id": "74b557a3-52a1-49ee-8ef3-c8e5d1e134ee",
   "metadata": {},
   "outputs": [],
   "source": [
    "class FrontEnd:\n",
    "    def __init__(self, back_end):\n",
    "        self.back_end = back_end\n",
    "\n",
    "    def display_data(self):\n",
    "        data = self.back_end.get_data_from_database()\n",
    "        print(\"Display data:\", data)\n",
    "\n",
    "class BackEnd:\n",
    "    def get_data_from_database(self):\n",
    "        return \"Data from the database\""
   ]
  },
  {
   "cell_type": "code",
   "execution_count": 35,
   "id": "39eeb15d-f7cf-4579-a779-9772bcc5d8c6",
   "metadata": {},
   "outputs": [],
   "source": [
    "# app_dip.py\n",
    "\n",
    "from abc import ABC, abstractmethod\n",
    "\n",
    "class FrontEnd:\n",
    "    def __init__(self, data_source):\n",
    "        self.data_source = data_source\n",
    "\n",
    "    def display_data(self):\n",
    "        data = self.data_source.get_data()\n",
    "        print(\"Display data:\", data)\n",
    "\n",
    "class DataSource(ABC):\n",
    "    @abstractmethod\n",
    "    def get_data(self):\n",
    "        pass\n",
    "\n",
    "class Database(DataSource):\n",
    "    def get_data(self):\n",
    "        return \"Data from the database\"\n",
    "\n",
    "class API(DataSource):\n",
    "    def get_data(self):\n",
    "        return \"Data from the API\""
   ]
  },
  {
   "cell_type": "code",
   "execution_count": 36,
   "id": "82df796d-9cbf-48fe-b75e-62ca02c9edeb",
   "metadata": {},
   "outputs": [
    {
     "name": "stdout",
     "output_type": "stream",
     "text": [
      "Display data: Data from the database\n"
     ]
    }
   ],
   "source": [
    "db_front_end = FrontEnd(Database())\n",
    "db_front_end.display_data()"
   ]
  },
  {
   "cell_type": "code",
   "execution_count": 37,
   "id": "cf1416ba-a219-47df-8b78-e35f349edd9d",
   "metadata": {},
   "outputs": [
    {
     "name": "stdout",
     "output_type": "stream",
     "text": [
      "Display data: Data from the API\n"
     ]
    }
   ],
   "source": [
    "api_front_end = FrontEnd(API())\n",
    "api_front_end.display_data()"
   ]
  },
  {
   "cell_type": "code",
   "execution_count": null,
   "id": "c92c065c-0633-4934-9ce2-10dfb6a63a24",
   "metadata": {},
   "outputs": [],
   "source": []
  }
 ],
 "metadata": {
  "kernelspec": {
   "display_name": "Python 3 (ipykernel)",
   "language": "python",
   "name": "python3"
  },
  "language_info": {
   "codemirror_mode": {
    "name": "ipython",
    "version": 3
   },
   "file_extension": ".py",
   "mimetype": "text/x-python",
   "name": "python",
   "nbconvert_exporter": "python",
   "pygments_lexer": "ipython3",
   "version": "3.8.10"
  }
 },
 "nbformat": 4,
 "nbformat_minor": 5
}
