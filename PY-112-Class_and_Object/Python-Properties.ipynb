{
 "cells": [
  {
   "cell_type": "code",
   "execution_count": 2,
   "id": "ff0b4983-95fa-4353-9106-b9df597fc648",
   "metadata": {},
   "outputs": [],
   "source": [
    "class Employer:\n",
    "    def __init__(self, name, new_salary):  \n",
    "        self._salary = new_salary\n",
    "\n",
    "    @property\n",
    "    def salary(self):  \n",
    "        return self._salary\n",
    "\n",
    "    @salary.setter\n",
    "    def salary(self, new_salary):  \n",
    "        if new_salary < 0:\n",
    "            raise ValueError(\"Invalid salary\")  \n",
    "            self._salary = new_salary"
   ]
  },
  {
   "cell_type": "code",
   "execution_count": 3,
   "id": "ffc78923-f159-4700-8fab-19de5a397cf0",
   "metadata": {},
   "outputs": [
    {
     "ename": "NameError",
     "evalue": "name 'Employee' is not defined",
     "output_type": "error",
     "traceback": [
      "\u001b[1;31m---------------------------------------------------------------------------\u001b[0m",
      "\u001b[1;31mNameError\u001b[0m                                 Traceback (most recent call last)",
      "Cell \u001b[1;32mIn[3], line 1\u001b[0m\n\u001b[1;32m----> 1\u001b[0m emp \u001b[38;5;241m=\u001b[39m \u001b[43mEmployee\u001b[49m(\u001b[38;5;124m\"\u001b[39m\u001b[38;5;124mMiriam Azari\u001b[39m\u001b[38;5;124m\"\u001b[39m, \u001b[38;5;241m35000\u001b[39m)   \u001b[38;5;66;03m# accessing the \"property\"\u001b[39;00m\n\u001b[0;32m      2\u001b[0m emp\u001b[38;5;241m.\u001b[39msalary\n",
      "\u001b[1;31mNameError\u001b[0m: name 'Employee' is not defined"
     ]
    }
   ],
   "source": [
    "emp = Employee(\"Miriam Azari\", 35000)   # accessing the \"property\"\n",
    "emp.salary"
   ]
  },
  {
   "cell_type": "code",
   "execution_count": null,
   "id": "2d1d84dc-c264-422f-9d42-5127154d9a52",
   "metadata": {},
   "outputs": [],
   "source": []
  }
 ],
 "metadata": {
  "kernelspec": {
   "display_name": "Python 3 (ipykernel)",
   "language": "python",
   "name": "python3"
  },
  "language_info": {
   "codemirror_mode": {
    "name": "ipython",
    "version": 3
   },
   "file_extension": ".py",
   "mimetype": "text/x-python",
   "name": "python",
   "nbconvert_exporter": "python",
   "pygments_lexer": "ipython3",
   "version": "3.8.10"
  }
 },
 "nbformat": 4,
 "nbformat_minor": 5
}
