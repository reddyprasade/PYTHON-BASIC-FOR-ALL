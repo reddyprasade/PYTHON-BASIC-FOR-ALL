{
 "cells": [
  {
   "cell_type": "markdown",
   "metadata": {
    "cell_id": "a23d1281f2f64ac99df4dfda1c61b0fd",
    "deepnote_cell_type": "text-cell-h1",
    "formattedRanges": []
   },
   "source": [
    "# Class anatomy: attributes and methods\r"
   ]
  },
  {
   "cell_type": "code",
   "execution_count": null,
   "metadata": {
    "cell_id": "901c87dd631a4030a1cb2cf0eb8876d0",
    "deepnote_cell_type": "code",
    "deepnote_to_be_reexecuted": false,
    "execution_millis": 5,
    "execution_start": 1699497280853,
    "source_hash": null
   },
   "outputs": [],
   "source": [
    "class Customer:\n",
    "\n",
    "    def set_name(self,first_name, second_name,age):\n",
    "        \"\"\"\n",
    "            Attributes\n",
    "\n",
    "\n",
    "        \"\"\"\n",
    "        self.fname = first_name\n",
    "        self.lname = second_name\n",
    "        self.a = age\n",
    "\n",
    "    def identify(self):\n",
    "        name = self.fname+ \" \"+ self.lname\n",
    "        print(\"My First and last Name:  {} and age is {}\".format(name,self.a))\n",
    "    \n",
    "    def age_check(self):\n",
    "        ages = self.a\n",
    "        if ages>=18:\n",
    "            print(\"You Can Vote\")\n",
    "        else:\n",
    "            print(\"You Can't Vote\")"
   ]
  },
  {
   "cell_type": "code",
   "execution_count": null,
   "metadata": {
    "cell_id": "898dd8d0d69b4e148152e5b33dd07abc",
    "deepnote_cell_type": "code",
    "deepnote_to_be_reexecuted": false,
    "execution_millis": 12,
    "execution_start": 1699497280884,
    "source_hash": null
   },
   "outputs": [],
   "source": [
    "cust = Customer()\n",
    "cust.set_name('Reddy','Prasad',12)"
   ]
  },
  {
   "cell_type": "code",
   "execution_count": null,
   "metadata": {
    "cell_id": "efdcd82bcd2d4c35ac2e654c943384b0",
    "deepnote_cell_type": "code",
    "deepnote_to_be_reexecuted": false,
    "execution_millis": 18,
    "execution_start": 1699497280885,
    "source_hash": null
   },
   "outputs": [
    {
     "name": "stdout",
     "output_type": "stream",
     "text": [
      "My First and last Name:  Reddy Prasad and age is 12\n"
     ]
    }
   ],
   "source": [
    "cust.identify()"
   ]
  },
  {
   "cell_type": "code",
   "execution_count": null,
   "metadata": {
    "cell_id": "dbaaa77b622a44729cfe3418a138c5e2",
    "deepnote_cell_type": "code",
    "deepnote_to_be_reexecuted": false,
    "execution_millis": 15,
    "execution_start": 1699497280886,
    "source_hash": null
   },
   "outputs": [
    {
     "name": "stdout",
     "output_type": "stream",
     "text": [
      "You Can Vote\n"
     ]
    }
   ],
   "source": [
    "cust.set_name('Reddy','Prasad',25)\n",
    "cust.age_check()"
   ]
  },
  {
   "cell_type": "code",
   "execution_count": null,
   "metadata": {
    "cell_id": "a173b656a93c4161ac1f4f0e80ccf6d7",
    "deepnote_cell_type": "code",
    "deepnote_to_be_reexecuted": false,
    "execution_millis": 17,
    "execution_start": 1699497280888,
    "source_hash": null
   },
   "outputs": [
    {
     "name": "stdout",
     "output_type": "stream",
     "text": [
      "You Can't Vote\n"
     ]
    }
   ],
   "source": [
    "cust.set_name('Reddy','Prasad',15)\n",
    "cust.age_check()"
   ]
  },
  {
   "cell_type": "code",
   "execution_count": null,
   "metadata": {
    "cell_id": "20f46f11ce2141d788ccb00c8cda91a6",
    "deepnote_cell_type": "code",
    "deepnote_to_be_reexecuted": false,
    "execution_millis": 51,
    "execution_start": 1699497280939,
    "source_hash": null
   },
   "outputs": [],
   "source": []
  },
  {
   "cell_type": "markdown",
   "metadata": {
    "cell_id": "c15043362d014d7fac4e38529ab7ba7f",
    "deepnote_cell_type": "markdown"
   },
   "source": [
    "### Constructor"
   ]
  },
  {
   "cell_type": "markdown",
   "metadata": {
    "cell_id": "c10be1dbf49947d5b890f3ac8bbde1e1",
    "deepnote_cell_type": "text-cell-bullet",
    "formattedRanges": []
   },
   "source": [
    "- The __init__() method, also known as the constructor, is a special method in Python classes that is called when an object of the class is created."
   ]
  },
  {
   "cell_type": "markdown",
   "metadata": {
    "cell_id": "a22ddf6aea1f4634a798ff7e6575f3a8",
    "deepnote_cell_type": "text-cell-bullet",
    "formattedRanges": []
   },
   "source": [
    "- It is used to initialize the attributes (variables) of the object"
   ]
  },
  {
   "cell_type": "markdown",
   "metadata": {
    "cell_id": "389df3764718493a83603bfd46202794",
    "deepnote_cell_type": "text-cell-bullet",
    "formattedRanges": []
   },
   "source": [
    "- Inside the __init__() method, you can assign values to the attributes of the object"
   ]
  },
  {
   "cell_type": "code",
   "execution_count": null,
   "metadata": {
    "cell_id": "f02d8190b18e4c198647946c148ccf61",
    "deepnote_cell_type": "code",
    "deepnote_to_be_reexecuted": false,
    "execution_millis": 6,
    "execution_start": 1699497660145,
    "source_hash": null
   },
   "outputs": [],
   "source": [
    "class Person:\n",
    "    def __init__(self, name):\n",
    "        \"\"\"\n",
    "            Inside the __init__() method, you can assign values to the attributes of the object\n",
    "            We Can Only Define attributes only\n",
    "        \"\"\"\n",
    "        self.name = name"
   ]
  },
  {
   "cell_type": "code",
   "execution_count": null,
   "metadata": {
    "cell_id": "5714d385984546a1a324c7618cd5b82b",
    "deepnote_cell_type": "code",
    "deepnote_to_be_reexecuted": false,
    "execution_millis": 21,
    "execution_start": 1699497710449,
    "source_hash": null
   },
   "outputs": [
    {
     "data": {
      "text/plain": [
       "<__main__.Person at 0x7fbc38403490>"
      ]
     },
     "execution_count": 7,
     "metadata": {},
     "output_type": "execute_result"
    }
   ],
   "source": [
    "obj = Person('Reddy')\n",
    "obj"
   ]
  },
  {
   "cell_type": "code",
   "execution_count": null,
   "metadata": {
    "cell_id": "af209e359e9d4da09165876b13ee4224",
    "deepnote_cell_type": "code",
    "deepnote_to_be_reexecuted": false,
    "execution_millis": 6,
    "execution_start": 1699497721874,
    "source_hash": null
   },
   "outputs": [
    {
     "data": {
      "text/plain": [
       "'Reddy'"
      ]
     },
     "execution_count": 8,
     "metadata": {},
     "output_type": "execute_result"
    }
   ],
   "source": [
    "obj.name"
   ]
  },
  {
   "cell_type": "markdown",
   "metadata": {
    "cell_id": "7a89e6bf2d974729b52c9578aac26c84",
    "deepnote_cell_type": "text-cell-h2",
    "formattedRanges": []
   },
   "source": [
    "## BuildingContractor"
   ]
  },
  {
   "cell_type": "code",
   "execution_count": null,
   "metadata": {
    "cell_id": "7398eb29db754d1bbc56f5175043a219",
    "deepnote_cell_type": "code",
    "deepnote_to_be_reexecuted": false,
    "execution_millis": 31,
    "execution_start": 1699499017339,
    "source_hash": null
   },
   "outputs": [],
   "source": [
    "class BuildingContractor:\n",
    "    \"\"\"\n",
    "        This code creates a class called BuildingContractor that stores the following information about a building contractor:\n",
    "\n",
    "        Parameters in constructor:\n",
    "        -------------------------\n",
    "        1. Name\n",
    "        2. Address\n",
    "        3. Phone number\n",
    "        4. Email address\n",
    "    \"\"\"\n",
    "    # contractor\n",
    "    def __init__(self,name, address, phone_number,email_id):\n",
    "        \"\"\"\n",
    "            The class includes methods to get and set each of these pieces of information, as well as a method to print all of the information about the contractor.\n",
    "        \"\"\"\n",
    "        self.name = name\n",
    "        self.address = address\n",
    "        self.phone_number = phone_number\n",
    "        self.email_id = email_id\n",
    "\n",
    "    # Methods\n",
    "    def get_name(self):\n",
    "        return self.name\n",
    "    \n",
    "    def get_address(self):\n",
    "        return self.address\n",
    "    \n",
    "    def get_phone_number(self):\n",
    "        return self.phone_number\n",
    "    \n",
    "    def get_email_address(self):\n",
    "        return self.email_id\n",
    "\n",
    "    def set_name(self, new_name):\n",
    "        self.name = new_name\n",
    "\n",
    "    def set_address(self, new_address):\n",
    "        self.address = new_address\n",
    "\n",
    "    def set_phone_number(self, new_phone_number):\n",
    "        self.phone_number = new_phone_number\n",
    "\n",
    "    def set_email_address(self, new_email_address):\n",
    "        self.email_id = new_email_address\n",
    "\n",
    "    def print_details(self):\n",
    "        print(\"Building Contractor Information:\")\n",
    "        print(f\"Name: {self.name}\")\n",
    "        print(f\"Address: {self.address}\")\n",
    "        print(f\"Phone Number: {self.phone_number}\")\n",
    "        print(f\"Email Address: {self.email_id}\")\n",
    "    \n",
    "    def estimate_project(self, project_description):\n",
    "        # Estimate the cost of the project based on the project description\n",
    "        pass\n",
    "\n",
    "    def hire_subcontractors(self, subcontractors):\n",
    "        # Hire the subcontractors needed for the project\n",
    "        pass\n",
    "\n",
    "    def manage_construction(self):\n",
    "        # Manage the construction of the project\n",
    "        pass\n",
    "\n",
    "    def inspect_work(self):\n",
    "        # Inspect the work of the subcontractors\n",
    "        pass\n",
    "\n",
    "    def complete_project(self):\n",
    "        # Complete the project and hand it over to the client\n",
    "        pass\n"
   ]
  },
  {
   "cell_type": "code",
   "execution_count": null,
   "metadata": {
    "cell_id": "c5c8b6b5d6cc4c98823d7cf557d51c8c",
    "deepnote_cell_type": "code",
    "deepnote_to_be_reexecuted": false,
    "execution_millis": 7,
    "execution_start": 1699499018425,
    "source_hash": null
   },
   "outputs": [],
   "source": [
    "contractor1 = BuildingContractor('Ravindra Reddy',\"FF07 Royal Coutry Layout JP Nagar\",9248366819,'ravi@gmail.com')"
   ]
  },
  {
   "cell_type": "code",
   "execution_count": null,
   "metadata": {
    "cell_id": "04338d295fe34f6286294d3a3f71aaa0",
    "deepnote_cell_type": "code",
    "deepnote_to_be_reexecuted": false,
    "execution_millis": 9,
    "execution_start": 1699499019615,
    "source_hash": null
   },
   "outputs": [
    {
     "name": "stdout",
     "output_type": "stream",
     "text": [
      "Building Contractor Information:\n",
      "Name: Ravindra Reddy\n",
      "Address: FF07 Royal Coutry Layout JP Nagar\n",
      "Phone Number: 9248366819\n",
      "Email Address: ravi@gmail.com\n"
     ]
    }
   ],
   "source": [
    "contractor1.print_details()"
   ]
  },
  {
   "cell_type": "code",
   "execution_count": null,
   "metadata": {
    "cell_id": "0433186adbb14cb1b1cff55c1c52b219",
    "deepnote_cell_type": "code",
    "deepnote_to_be_reexecuted": false,
    "execution_millis": 17,
    "execution_start": 1699499020550,
    "source_hash": null
   },
   "outputs": [],
   "source": [
    "contractor = BuildingContractor(\"John Doe Construction\", \"123 Main Street\", \"555-555-5555\", \"johndoe@construction.com\") \n",
    "contractor.estimate_project(\"This is a project description.\")\n",
    "contractor.hire_subcontractors([\"Subcontractor 1\", \"Subcontractor 2\"])\n",
    "contractor.manage_construction()\n",
    "contractor.inspect_work()\n",
    "contractor.complete_project()\n"
   ]
  },
  {
   "cell_type": "code",
   "execution_count": null,
   "metadata": {
    "cell_id": "7d197529bd9345dc896f6d97a681fe26",
    "deepnote_cell_type": "code",
    "deepnote_to_be_reexecuted": false,
    "execution_millis": 95,
    "execution_start": 1699500470000,
    "source_hash": null
   },
   "outputs": [
    {
     "name": "stdout",
     "output_type": "stream",
     "text": [
      "Your balance is: $1050\n",
      "Account number for Reddy: 123456789\n",
      "Your balance is: $800\n",
      "Customer name for account 987654321: Jane Smith\n"
     ]
    }
   ],
   "source": [
    "class BankAccount:\n",
    "    def __init__(self, account_number, balance, customer_name):\n",
    "        self.account_number = account_number\n",
    "        self.balance = balance\n",
    "        self.customer_name = customer_name\n",
    "\n",
    "    def deposit(self, amount):\n",
    "        self.balance += amount\n",
    "\n",
    "    def withdraw(self, amount):\n",
    "        if self.balance >= amount:\n",
    "            self.balance -= amount\n",
    "        else:\n",
    "            print(\"Insufficient funds\")\n",
    "\n",
    "    def check_balance(self):\n",
    "        print(f\"Your balance is: ${self.balance}\")\n",
    "\n",
    "    def get_account_number(self):\n",
    "        return self.account_number\n",
    "\n",
    "    def get_customer_name(self):\n",
    "        return self.customer_name\n",
    "\n",
    "    def set_customer_name(self, new_name):\n",
    "        self.customer_name = new_name\n",
    "\n",
    "\n",
    "# Example usage\n",
    "\n",
    "account1 = BankAccount(\"123456789\", 1000, \"Reddy\")\n",
    "account2 = BankAccount(\"987654321\", 500, \"Ravi\")\n",
    "\n",
    "account1.deposit(200)\n",
    "account1.withdraw(150)\n",
    "account1.check_balance()\n",
    "\n",
    "print(f\"Account number for {account1.get_customer_name()}: {account1.get_account_number()}\")\n",
    "\n",
    "account2.deposit(300)\n",
    "account2.check_balance()\n",
    "account2.set_customer_name(\"Jane Smith\")\n",
    "print(f\"Customer name for account {account2.get_account_number()}: {account2.get_customer_name()}\")\n"
   ]
  },
  {
   "cell_type": "code",
   "execution_count": null,
   "metadata": {
    "cell_id": "10ffb9823ff74b19b515f10b9f718eea",
    "deepnote_cell_type": "code",
    "deepnote_to_be_reexecuted": false,
    "execution_millis": 35754,
    "execution_start": 1699499800525,
    "source_hash": null
   },
   "outputs": [
    {
     "name": "stdout",
     "output_type": "stream",
     "text": [
      "---------------Transaction------------------\n",
      "Check Balance:  1\n",
      "Deposit:        2\n",
      "Withdraw:       3\n",
      "Add Interest:   4\n",
      "Exit:           5\n",
      "----------PLEASE CHOOSE THE OPTIONS---------\n",
      "Balance: 1000\n",
      "----------PLEASE CHOOSE THE OPTIONS---------\n",
      "Balance: 1002.0\n",
      "----------PLEASE CHOOSE THE OPTIONS---------\n",
      "Balance: 998.0\n",
      "----------PLEASE CHOOSE THE OPTIONS---------\n",
      "Thank you for visiting us!\n"
     ]
    }
   ],
   "source": [
    "class BankAccount:\n",
    "    def __init__(self, balance):\n",
    "        self.balance = balance\n",
    "    def deposit(self, amount):\n",
    "        self.balance += amount\n",
    "        return self.balance\n",
    "\n",
    "    def withdraw(self, amount):\n",
    "        if self.balance >= amount:\n",
    "            self.balance -= amount\n",
    "            return self.balance\n",
    "        else:\n",
    "            return \"Insufficient funds\"\n",
    "\n",
    "class SavingsAccount(BankAccount):\n",
    "    def __init__(self, balance, interest_rate):\n",
    "        super().__init__(balance)\n",
    "        self.interest_rate = interest_rate\n",
    "\n",
    "    def add_interest(self):\n",
    "        interest = self.balance * self.interest_rate\n",
    "        self.deposit(interest)\n",
    "        return self.balance\n",
    "\n",
    "savings_account = SavingsAccount(1000, 0.03)\n",
    "print(\"---------------Transaction------------------\")\n",
    "print(\"Check Balance:  1\")\n",
    "print(\"Deposit:        2\")\n",
    "print(\"Withdraw:       3\")\n",
    "print(\"Add Interest:   4\")\n",
    "print(\"Exit:           5\")\n",
    "\n",
    "while True:\n",
    "    print(\"----------PLEASE CHOOSE THE OPTIONS---------\")\n",
    "    operation = int(input(\"Enter operation:\")) \n",
    "    if operation == 1:\n",
    "        print(\"Balance:\",savings_account.balance)\n",
    "    elif operation == 2:\n",
    "        amount = float(input(\"Enter deposit amount:\"))\n",
    "        print(\"Balance:\",savings_account.deposit(amount))\n",
    "    elif operation == 3:\n",
    "        amount = float(input(\"Enter withdraw amount:\"))\n",
    "        print(\"Balance:\",savings_account.withdraw(amount))\n",
    "    elif operation == 4:\n",
    "        print(\"Balance:\",savings_account.add_interest())\n",
    "    elif operation == 5:\n",
    "        print(\"Thank you for visiting us!\")\n",
    "        break\n",
    "    else:\n",
    "        print(\"Please enter valid options[1-5]\")\n",
    "        break"
   ]
  },
  {
   "cell_type": "code",
   "execution_count": null,
   "metadata": {
    "cell_id": "f36b689ec4e843199f44aba13ff1a0e1",
    "deepnote_cell_type": "code"
   },
   "outputs": [],
   "source": []
  },
  {
   "cell_type": "markdown",
   "metadata": {
    "cell_id": "3e92229cf12e42a8b201e46beb8edf74",
    "deepnote_cell_type": "text-cell-h2",
    "formattedRanges": []
   },
   "source": [
    "## Decorators"
   ]
  },
  {
   "cell_type": "code",
   "execution_count": null,
   "metadata": {
    "cell_id": "c4715efd5ecd42268e1b6a0e049cb32a",
    "deepnote_cell_type": "code",
    "deepnote_to_be_reexecuted": false,
    "execution_millis": 8,
    "execution_start": 1700017528143,
    "source_hash": null
   },
   "outputs": [
    {
     "name": "stdout",
     "output_type": "stream",
     "text": [
      "11\n"
     ]
    }
   ],
   "source": [
    "def outer(x):\n",
    "    def inner(y):\n",
    "        return x + y\n",
    "    return inner\n",
    "\n",
    "add_five = outer(5)\n",
    "result = add_five(6)\n",
    "print(result)  # prints 11\n",
    "\n",
    "# Output: 11"
   ]
  },
  {
   "cell_type": "code",
   "execution_count": null,
   "metadata": {
    "cell_id": "63f4568b30f4496c85e8e50b4a8a6365",
    "deepnote_cell_type": "code",
    "deepnote_to_be_reexecuted": false,
    "execution_millis": 7,
    "execution_start": 1700017538312,
    "source_hash": null
   },
   "outputs": [
    {
     "name": "stdout",
     "output_type": "stream",
     "text": [
      "10\n"
     ]
    }
   ],
   "source": [
    "def add(x, y):\n",
    "    return x + y\n",
    "\n",
    "def calculate(func, x, y):\n",
    "    return func(x, y)\n",
    "\n",
    "result = calculate(add, 4, 6)\n",
    "print(result)  # prints 10"
   ]
  },
  {
   "cell_type": "code",
   "execution_count": null,
   "metadata": {
    "cell_id": "c99512c824074e07959ff6849a685100",
    "deepnote_cell_type": "code",
    "deepnote_to_be_reexecuted": false,
    "execution_millis": 6,
    "execution_start": 1700017581316,
    "source_hash": null
   },
   "outputs": [
    {
     "name": "stdout",
     "output_type": "stream",
     "text": [
      "Hello, Atlantis!\n"
     ]
    }
   ],
   "source": [
    "def greeting(name):\n",
    "    def hello():\n",
    "        return \"Hello, \" + name + \"!\"\n",
    "    return hello\n",
    "\n",
    "greet = greeting(\"Atlantis\")\n",
    "print(greet())  # prints \"Hello, Atlantis!\"\n",
    "\n",
    "# Output: Hello, Atlantis!"
   ]
  },
  {
   "cell_type": "code",
   "execution_count": null,
   "metadata": {
    "cell_id": "86f58452d5c04603bc46a35f426fd04a",
    "deepnote_cell_type": "code",
    "deepnote_to_be_reexecuted": false,
    "execution_millis": 5,
    "execution_start": 1700017623032,
    "source_hash": null
   },
   "outputs": [],
   "source": [
    "def make_pretty(func):\n",
    "    def inner():\n",
    "        print(\"I got decorated\")\n",
    "        func()\n",
    "    return inner\n",
    "\n",
    "\n",
    "def ordinary():\n",
    "    print(\"I am ordinary\")\n",
    "\n",
    "# Output: I am ordinary"
   ]
  },
  {
   "cell_type": "code",
   "execution_count": null,
   "metadata": {
    "cell_id": "2f59fe18aad842cd92f27e2db4b0a739",
    "deepnote_cell_type": "code",
    "deepnote_to_be_reexecuted": false,
    "execution_millis": 10,
    "execution_start": 1700017654272,
    "source_hash": null
   },
   "outputs": [
    {
     "name": "stdout",
     "output_type": "stream",
     "text": [
      "I got decorated\n",
      "I am ordinary\n"
     ]
    }
   ],
   "source": [
    "def make_pretty(func):\n",
    "    # define the inner function \n",
    "    def inner():\n",
    "        # add some additional behavior to decorated function\n",
    "        print(\"I got decorated\")\n",
    "\n",
    "        # call original function\n",
    "        func()\n",
    "    # return the inner function\n",
    "    return inner\n",
    "\n",
    "# define ordinary function\n",
    "def ordinary():\n",
    "    print(\"I am ordinary\")\n",
    "    \n",
    "# decorate the ordinary function\n",
    "decorated_func = make_pretty(ordinary)\n",
    "\n",
    "# call the decorated function\n",
    "decorated_func()"
   ]
  },
  {
   "cell_type": "code",
   "execution_count": null,
   "metadata": {
    "cell_id": "0bd243a4fdec44eda7ea2d2da8a04516",
    "deepnote_cell_type": "code",
    "deepnote_to_be_reexecuted": false,
    "execution_millis": 6,
    "execution_start": 1700017690708,
    "source_hash": null
   },
   "outputs": [
    {
     "name": "stdout",
     "output_type": "stream",
     "text": [
      "I got decorated\n",
      "I am ordinary\n"
     ]
    }
   ],
   "source": [
    "def make_pretty(func):\n",
    "\n",
    "    def inner():\n",
    "        print(\"I got decorated\")\n",
    "        func()\n",
    "    return inner\n",
    "\n",
    "@make_pretty # decorated\n",
    "def ordinary():\n",
    "    print(\"I am ordinary\")\n",
    "\n",
    "ordinary()  "
   ]
  },
  {
   "cell_type": "code",
   "execution_count": null,
   "metadata": {
    "cell_id": "856d6aa1db85422eb2818691777d50f1",
    "deepnote_cell_type": "code",
    "deepnote_to_be_reexecuted": false,
    "execution_millis": 6,
    "execution_start": 1700017809528,
    "source_hash": null
   },
   "outputs": [
    {
     "name": "stdout",
     "output_type": "stream",
     "text": [
      "<__main__.Power object at 0x7f0a0559f710>\n",
      "16\n"
     ]
    }
   ],
   "source": [
    "class Power(object):\n",
    "\tdef __init__(self, arg):\n",
    "\t\tself._arg = arg\n",
    "\n",
    "\tdef __call__(self, a, b):\n",
    "\t\tretval = self._arg(a, b)\n",
    "\t\treturn retval ** 2\n",
    "\n",
    "\n",
    "@Power\n",
    "def multiply_together(a, b):\n",
    "\treturn a * b\n",
    "\n",
    "\n",
    "print(multiply_together)\n",
    "print(multiply_together(2, 2))"
   ]
  },
  {
   "cell_type": "code",
   "execution_count": null,
   "metadata": {
    "cell_id": "7790f74e8baa45119529701b0d874c6d",
    "deepnote_cell_type": "code",
    "deepnote_to_be_reexecuted": false,
    "execution_millis": 10,
    "execution_start": 1700018604312,
    "source_hash": null
   },
   "outputs": [],
   "source": [
    "class BankAccount:\n",
    "    \n",
    "  pass"
   ]
  },
  {
   "cell_type": "code",
   "execution_count": null,
   "metadata": {
    "cell_id": "7cd838f893604d27a15723405b11591a",
    "deepnote_cell_type": "code",
    "deepnote_to_be_reexecuted": false,
    "execution_millis": 7,
    "execution_start": 1700018614012,
    "source_hash": null
   },
   "outputs": [],
   "source": [
    "class ChildrensAccount:\n",
    "  pass\n",
    "  "
   ]
  },
  {
   "cell_type": "code",
   "execution_count": null,
   "metadata": {
    "cell_id": "e6ba56eae439489b95e19bcb67a7c022",
    "deepnote_cell_type": "code",
    "deepnote_to_be_reexecuted": false,
    "execution_millis": 6,
    "execution_start": 1700018654876,
    "source_hash": null
   },
   "outputs": [
    {
     "name": "stdout",
     "output_type": "stream",
     "text": [
      "'BankAccount' object has no attribute 'deposit'\n"
     ]
    }
   ],
   "source": [
    "class OverdraftAccount:\n",
    "  pass\n",
    "\n",
    "try:\n",
    "  basic_account = BankAccount()\n",
    "  basic_account.deposit(600)\n",
    "  print(\"Basic account has ${}\".format(basic_account.balance))\n",
    "  basic_account.withdraw(17)\n",
    "  print(\"Basic account has ${}\".format(basic_account.balance))\n",
    "  basic_account.accumulate_interest()\n",
    "  print(\"Basic account has ${}\".format(basic_account.balance))\n",
    "  print()\n",
    "except Exception as e:\n",
    "  print(e)"
   ]
  },
  {
   "cell_type": "code",
   "execution_count": null,
   "metadata": {
    "cell_id": "5205abe4d1f343c6afffea84557a8e01",
    "deepnote_cell_type": "code",
    "deepnote_to_be_reexecuted": false,
    "execution_millis": 5,
    "execution_start": 1700018723788,
    "source_hash": null
   },
   "outputs": [],
   "source": [
    "class Bank(object): \n",
    "   cash = 100000000 \n",
    "   @classmethod \n",
    "   def available_cash(cls): \n",
    "      print(cls.cash)"
   ]
  },
  {
   "cell_type": "code",
   "execution_count": null,
   "metadata": {
    "cell_id": "b381a80ba9e2466a921dc8bfd0cb028f",
    "deepnote_cell_type": "code",
    "deepnote_to_be_reexecuted": false,
    "execution_millis": 17,
    "execution_start": 1700018743291,
    "source_hash": null
   },
   "outputs": [],
   "source": [
    "class AndhraBank(Bank):\n",
    "   pass\n",
    "class StateBank(Bank): \n",
    "   cash = 20000000 \n",
    "   @classmethod \n",
    "   def available_cash(cls): \n",
    "      print(cls.cash + Bank.cash)\n",
    "      \n"
   ]
  },
  {
   "cell_type": "code",
   "execution_count": null,
   "metadata": {
    "cell_id": "2e5c30f496cb49b3bf4900535897552a",
    "deepnote_cell_type": "code",
    "deepnote_to_be_reexecuted": false,
    "execution_millis": 5,
    "execution_start": 1700018939685,
    "source_hash": null
   },
   "outputs": [
    {
     "name": "stdout",
     "output_type": "stream",
     "text": [
      "100000000\n",
      "SBI Cash and RBI Given Cash 120000000\n"
     ]
    }
   ],
   "source": [
    "\n",
    "class RBI(object): \n",
    "   cash = 100000000 \n",
    "   @classmethod\n",
    "   def available_cash(cls): \n",
    "      print(cls.cash) \n",
    "class AndhraBank(RBI): \n",
    "   pass \n",
    "class HDFC(RBI):\n",
    "    pass\n",
    "\n",
    "class StateBank(RBI): \n",
    "   sbi_cash = 20000000 \n",
    "   @classmethod \n",
    "   def available_cash(cls): \n",
    "      print(\"SBI Cash and RBI Given Cash\",cls.sbi_cash + RBI.cash) \n",
    "a = AndhraBank() \n",
    "a.available_cash() \n",
    "s = StateBank() \n",
    "s.available_cash()\n",
    "h = HDFC()\n"
   ]
  },
  {
   "cell_type": "code",
   "execution_count": null,
   "metadata": {
    "cell_id": "9f57b59df3da4a4c8f88989991f7cb74",
    "deepnote_cell_type": "code",
    "deepnote_to_be_reexecuted": false,
    "execution_millis": 6,
    "execution_start": 1700018887783,
    "source_hash": null
   },
   "outputs": [
    {
     "name": "stdout",
     "output_type": "stream",
     "text": [
      "100000000\n"
     ]
    }
   ],
   "source": [
    "h.available_cash()"
   ]
  },
  {
   "cell_type": "code",
   "execution_count": null,
   "metadata": {
    "cell_id": "fc08efc31f694de8bf9f2846045521c9",
    "deepnote_cell_type": "code",
    "deepnote_to_be_reexecuted": false,
    "execution_millis": 91,
    "execution_start": 1700102707971,
    "source_hash": null
   },
   "outputs": [],
   "source": [
    "def bread(func):\n",
    "    def wrapper():\n",
    "        print(\"</''''''\\>\")\n",
    "        func()\n",
    "        print(\"<\\______/>\")\n",
    "    return wrapper\n",
    "\n",
    "def ingredients(func):\n",
    "    def wrapper():\n",
    "        print('#tomatoes#')\n",
    "        func()\n",
    "        print('~salad~')\n",
    "    return wrapper\n",
    "\n",
    "def sandwich(food='--ham--'):\n",
    "    print(food)"
   ]
  },
  {
   "cell_type": "code",
   "execution_count": null,
   "metadata": {
    "cell_id": "ac1525c3459d4367b29afd1213fe0d9e",
    "deepnote_cell_type": "code",
    "deepnote_to_be_reexecuted": false,
    "execution_millis": 6,
    "execution_start": 1700102738963,
    "source_hash": null
   },
   "outputs": [
    {
     "name": "stdout",
     "output_type": "stream",
     "text": [
      "--ham--\n"
     ]
    }
   ],
   "source": [
    "sandwich()"
   ]
  },
  {
   "cell_type": "code",
   "execution_count": null,
   "metadata": {
    "cell_id": "67eb9fc73f63484a8ce7fd08eceeccea",
    "deepnote_cell_type": "code",
    "deepnote_to_be_reexecuted": false,
    "execution_millis": 11,
    "execution_start": 1700102776778,
    "source_hash": null
   },
   "outputs": [
    {
     "data": {
      "text/plain": [
       "<function __main__.bread.<locals>.wrapper()>"
      ]
     },
     "execution_count": 4,
     "metadata": {},
     "output_type": "execute_result"
    }
   ],
   "source": [
    "sandwich = bread(ingredients(sandwich))\n",
    "sandwich"
   ]
  },
  {
   "cell_type": "code",
   "execution_count": null,
   "metadata": {
    "cell_id": "03ebc3709f8b431ab4c72a99b6866b6f",
    "deepnote_cell_type": "code",
    "deepnote_to_be_reexecuted": false,
    "execution_millis": 8,
    "execution_start": 1700102799843,
    "source_hash": null
   },
   "outputs": [
    {
     "name": "stdout",
     "output_type": "stream",
     "text": [
      "</''''''\\>\n",
      "#tomatoes#\n",
      "--ham--\n",
      "~salad~\n",
      "<\\______/>\n"
     ]
    }
   ],
   "source": [
    "sandwich()"
   ]
  },
  {
   "cell_type": "code",
   "execution_count": null,
   "metadata": {
    "cell_id": "4a21840527cb46ebbaa521d7c3a144c4",
    "deepnote_cell_type": "code",
    "deepnote_to_be_reexecuted": false,
    "execution_millis": 16,
    "execution_start": 1700102863304,
    "source_hash": null
   },
   "outputs": [
    {
     "name": "stdout",
     "output_type": "stream",
     "text": [
      "</''''''\\>\n",
      "#tomatoes#\n",
      "--ham--\n",
      "~salad~\n",
      "<\\______/>\n"
     ]
    }
   ],
   "source": [
    "@bread\n",
    "@ingredients\n",
    "def sandwich(food='--ham--'):\n",
    "    print(food)\n",
    "\n",
    "sandwich()"
   ]
  },
  {
   "cell_type": "code",
   "execution_count": null,
   "metadata": {
    "cell_id": "83cc7e51db8f45f78212262f42c41201",
    "deepnote_cell_type": "code",
    "deepnote_to_be_reexecuted": false,
    "execution_millis": 8,
    "execution_start": 1700103023079,
    "source_hash": null
   },
   "outputs": [],
   "source": [
    "@bread\n",
    "@ingredients\n",
    "def Non_veg_sand(food='--Chiken--'):\n",
    "    print(food)"
   ]
  },
  {
   "cell_type": "code",
   "execution_count": null,
   "metadata": {
    "cell_id": "ef809518aa5c43669e4da06b7b52d317",
    "deepnote_cell_type": "code",
    "deepnote_to_be_reexecuted": false,
    "execution_millis": 6,
    "execution_start": 1700103024023,
    "source_hash": null
   },
   "outputs": [
    {
     "name": "stdout",
     "output_type": "stream",
     "text": [
      "</''''''\\>\n",
      "#tomatoes#\n",
      "--jam--\n",
      "~salad~\n",
      "<\\______/>\n"
     ]
    }
   ],
   "source": [
    "bread_jam()"
   ]
  },
  {
   "cell_type": "code",
   "execution_count": null,
   "metadata": {
    "cell_id": "41e0bfe9e81941eebde3a21eb025c69f",
    "deepnote_cell_type": "code",
    "deepnote_to_be_reexecuted": false,
    "execution_millis": 6,
    "execution_start": 1700103034577,
    "source_hash": null
   },
   "outputs": [
    {
     "name": "stdout",
     "output_type": "stream",
     "text": [
      "</''''''\\>\n",
      "#tomatoes#\n",
      "--Chiken--\n",
      "~salad~\n",
      "<\\______/>\n"
     ]
    }
   ],
   "source": [
    "Non_veg_sand()"
   ]
  },
  {
   "cell_type": "code",
   "execution_count": null,
   "metadata": {
    "cell_id": "e84a56818a64460c8cc98538c7f2c854",
    "deepnote_cell_type": "code",
    "deepnote_to_be_reexecuted": false,
    "execution_millis": 7,
    "execution_start": 1700103119547,
    "source_hash": null
   },
   "outputs": [],
   "source": [
    "def method_friendly_decorator(method_to_decorate):\n",
    "    def wrapper(self, lie):\n",
    "        lie = lie - 3 # very friendly, decrease age even more :-)\n",
    "        return method_to_decorate(self, lie)\n",
    "    return wrapper"
   ]
  },
  {
   "cell_type": "code",
   "execution_count": null,
   "metadata": {
    "cell_id": "e6b5d860543e4196a8c65011a62dfb59",
    "deepnote_cell_type": "code",
    "deepnote_to_be_reexecuted": false,
    "execution_millis": 16,
    "execution_start": 1700103154387,
    "source_hash": null
   },
   "outputs": [
    {
     "name": "stdout",
     "output_type": "stream",
     "text": [
      "I am 26, what did you think?\n"
     ]
    }
   ],
   "source": [
    "class Lucy(object):\n",
    "    def __init__(self):\n",
    "        self.age = 32\n",
    "    \n",
    "    @method_friendly_decorator\n",
    "    def sayYourAge(self, lie):\n",
    "        print('I am {0}, what did you think?'.format(self.age + lie))\n",
    "        \n",
    "l = Lucy()\n",
    "l.sayYourAge(-3)"
   ]
  },
  {
   "cell_type": "code",
   "execution_count": null,
   "metadata": {
    "cell_id": "29a6b3f9f3a74dc0b2574377ccfc1c72",
    "deepnote_cell_type": "code",
    "deepnote_to_be_reexecuted": false,
    "execution_millis": 12,
    "execution_start": 1700105016456,
    "source_hash": null
   },
   "outputs": [],
   "source": [
    "class BankAccount:\n",
    "        def\t__init__(self, balance):  \n",
    "            self.balance = balance\n",
    "\n",
    "        def withdraw(self, amount):  \n",
    "            self.balance -=amount\n",
    "\n",
    "class SavingsAccount(BankAccount):\n",
    "\n",
    "        def __init__(self, balance, interest_rate):  \n",
    "            BankAccount.__init__(self, balance)  \n",
    "            self.interest_rate = interest_rate\n",
    "\n",
    "        # New functionality\n",
    "        def compute_interest(self, n_periods = 1):\n",
    "            return self.balance * ( (1 + self.interest_rate) ** n_periods - 1)\n",
    "\n",
    "class CurrentAccount(BankAccount):\n",
    "\n",
    "        def __init__(self, balance, interest_rate):  \n",
    "            BankAccount.__init__(self, balance)  \n",
    "            self.interest_rate = interest_rate\n",
    "\n",
    "        # New functionality\n",
    "        def compute_interest(self, n_periods = 1):\n",
    "            return self.balance * ( (1 + self.interest_rate) ** n_periods)\n"
   ]
  },
  {
   "cell_type": "code",
   "execution_count": null,
   "metadata": {
    "cell_id": "1d900c7b8f2c4e9487f1fab0dca23840",
    "deepnote_cell_type": "code",
    "deepnote_to_be_reexecuted": false,
    "execution_millis": 10,
    "execution_start": 1700105017823,
    "source_hash": null
   },
   "outputs": [
    {
     "data": {
      "text/plain": [
       "0.03"
      ]
     },
     "execution_count": 47,
     "metadata": {},
     "output_type": "execute_result"
    }
   ],
   "source": [
    "# Construct the object using the new constructor  \n",
    "acct = SavingsAccount(10000, 0.03)  \n",
    "acct.interest_rate\n"
   ]
  },
  {
   "cell_type": "code",
   "execution_count": null,
   "metadata": {
    "cell_id": "4d96ff37525943b1a37098d5558a356b",
    "deepnote_cell_type": "code",
    "deepnote_to_be_reexecuted": false,
    "execution_millis": 18,
    "execution_start": 1700105018746,
    "source_hash": null
   },
   "outputs": [
    {
     "data": {
      "text/plain": [
       "10000"
      ]
     },
     "execution_count": 51,
     "metadata": {},
     "output_type": "execute_result"
    }
   ],
   "source": [
    "acct.balance"
   ]
  },
  {
   "cell_type": "code",
   "execution_count": null,
   "metadata": {
    "cell_id": "fc9fb252d3d6449584ca5b36442edd34",
    "deepnote_cell_type": "code",
    "deepnote_to_be_reexecuted": false,
    "execution_millis": 9,
    "execution_start": 1700105019807,
    "source_hash": null
   },
   "outputs": [],
   "source": [
    "acct.withdraw(500)"
   ]
  },
  {
   "cell_type": "code",
   "execution_count": null,
   "metadata": {
    "cell_id": "7d1d4962b8454b4d9d054dc3028ddeff",
    "deepnote_cell_type": "code",
    "deepnote_to_be_reexecuted": false,
    "execution_millis": 10,
    "execution_start": 1700105021010,
    "source_hash": null
   },
   "outputs": [
    {
     "data": {
      "text/plain": [
       "8500"
      ]
     },
     "execution_count": 56,
     "metadata": {},
     "output_type": "execute_result"
    }
   ],
   "source": [
    "acct.balance"
   ]
  },
  {
   "cell_type": "code",
   "execution_count": null,
   "metadata": {
    "cell_id": "8812826032d848c39271f1cc24679aab",
    "deepnote_cell_type": "code",
    "deepnote_to_be_reexecuted": false,
    "execution_millis": 16,
    "execution_start": 1700105022545,
    "source_hash": null
   },
   "outputs": [
    {
     "data": {
      "text/plain": [
       "28763.201159010314"
      ]
     },
     "execution_count": 58,
     "metadata": {},
     "output_type": "execute_result"
    }
   ],
   "source": [
    "acct.compute_interest(n_periods=50)"
   ]
  },
  {
   "cell_type": "code",
   "execution_count": null,
   "metadata": {
    "cell_id": "2f5e11f652a049ed87bc93f522a1fdfd",
    "deepnote_cell_type": "code",
    "deepnote_to_be_reexecuted": false,
    "execution_millis": 5,
    "execution_start": 1700105050355,
    "source_hash": null
   },
   "outputs": [],
   "source": [
    "curr = CurrentAccount(50000,7.8)"
   ]
  },
  {
   "cell_type": "code",
   "execution_count": null,
   "metadata": {
    "cell_id": "ddb1b08292b34088a52fbabae63e7b54",
    "deepnote_cell_type": "code",
    "deepnote_to_be_reexecuted": false,
    "execution_millis": 13,
    "execution_start": 1700105051016,
    "source_hash": null
   },
   "outputs": [
    {
     "data": {
      "text/plain": [
       "50000"
      ]
     },
     "execution_count": 64,
     "metadata": {},
     "output_type": "execute_result"
    }
   ],
   "source": [
    "\n",
    "curr.balance"
   ]
  },
  {
   "cell_type": "code",
   "execution_count": null,
   "metadata": {
    "cell_id": "3fd99c2baec14ef3b3806544bcc46f4c",
    "deepnote_cell_type": "code",
    "deepnote_to_be_reexecuted": false,
    "execution_millis": 8,
    "execution_start": 1700105052634,
    "source_hash": null
   },
   "outputs": [
    {
     "data": {
      "text/plain": [
       "8.37729119586653e+51"
      ]
     },
     "execution_count": 65,
     "metadata": {},
     "output_type": "execute_result"
    }
   ],
   "source": [
    "curr.compute_interest(n_periods=50)"
   ]
  },
  {
   "cell_type": "code",
   "execution_count": null,
   "metadata": {
    "cell_id": "458e1b56624e43d9a1ac3499c5445ccd",
    "deepnote_cell_type": "code",
    "deepnote_to_be_reexecuted": false,
    "execution_millis": 7,
    "execution_start": 1700105064224,
    "source_hash": null
   },
   "outputs": [
    {
     "data": {
      "text/plain": [
       "7.8"
      ]
     },
     "execution_count": 66,
     "metadata": {},
     "output_type": "execute_result"
    }
   ],
   "source": [
    "curr.interest_rate"
   ]
  },
  {
   "cell_type": "code",
   "execution_count": null,
   "metadata": {
    "cell_id": "d578aec56f9446349324edc131ba60bd",
    "deepnote_cell_type": "code",
    "deepnote_to_be_reexecuted": false,
    "execution_millis": 254,
    "execution_start": 1700105413223,
    "source_hash": null
   },
   "outputs": [],
   "source": [
    "class CheckingAccount(BankAccount):\n",
    "    def __init__(self, balance, limit):\n",
    "        BankAccount.__init__(self, balance)  # Pass the correct parameter 'balance'\n",
    "        self.limit = limit\n",
    "\n",
    "    def deposit(self, amount):\n",
    "        self.balance += amount\n",
    "\n",
    "    def withdraw(self, amount, fee=0):\n",
    "        remaining_limit = self.limit - self.balance\n",
    "\n",
    "        if fee <= remaining_limit:  # Check if fee is within the remaining limit\n",
    "            BankAccount.withdraw(self, amount - fee)\n",
    "        else:\n",
    "            BankAccount.withdraw(self, amount - self.limit)\n"
   ]
  },
  {
   "cell_type": "code",
   "execution_count": null,
   "metadata": {
    "cell_id": "a5e9fa8a95534a6998ba84ac0a71889f",
    "deepnote_cell_type": "code",
    "deepnote_to_be_reexecuted": false,
    "execution_millis": 6,
    "execution_start": 1700105500111,
    "source_hash": null
   },
   "outputs": [],
   "source": [
    "check_acct = CheckingAccount(1000, 25)"
   ]
  },
  {
   "cell_type": "code",
   "execution_count": null,
   "metadata": {
    "cell_id": "294d8031bf1943139f5d82ebb9cc06ce",
    "deepnote_cell_type": "code",
    "deepnote_to_be_reexecuted": false,
    "execution_millis": 6,
    "execution_start": 1700105519729,
    "source_hash": null
   },
   "outputs": [],
   "source": [
    "# Will call withdraw from CheckingAccount  \n",
    "check_acct.withdraw(200)"
   ]
  },
  {
   "cell_type": "code",
   "execution_count": null,
   "metadata": {
    "cell_id": "b0e7550fd86e4523a110fee7b7b1002a",
    "deepnote_cell_type": "code",
    "deepnote_to_be_reexecuted": false,
    "execution_millis": 9,
    "execution_start": 1700105552236,
    "source_hash": null
   },
   "outputs": [],
   "source": [
    "# Will call withdraw from CheckingAccount  \n",
    "check_acct.withdraw(200, fee=15)"
   ]
  },
  {
   "cell_type": "code",
   "execution_count": null,
   "metadata": {
    "cell_id": "6985626452bf416297f523b51b96ce28",
    "deepnote_cell_type": "code",
    "deepnote_to_be_reexecuted": false,
    "execution_millis": 19,
    "execution_start": 1700105575329,
    "source_hash": null
   },
   "outputs": [],
   "source": [
    "bank_acct = BankAccount(1000)"
   ]
  },
  {
   "cell_type": "code",
   "execution_count": null,
   "metadata": {
    "cell_id": "9d53335439e64d80809f9340d1c6c5de",
    "deepnote_cell_type": "code",
    "deepnote_to_be_reexecuted": false,
    "execution_millis": 6,
    "execution_start": 1700105586262,
    "source_hash": null
   },
   "outputs": [],
   "source": [
    "# Will call withdraw from BankAccount  \n",
    "bank_acct.withdraw(200)"
   ]
  },
  {
   "cell_type": "code",
   "execution_count": null,
   "metadata": {
    "cell_id": "e3b75fc493fa4ecaabec2a72c38bd54c",
    "deepnote_cell_type": "code",
    "deepnote_to_be_reexecuted": false,
    "execution_millis": 9,
    "execution_start": 1700105605507,
    "source_hash": null
   },
   "outputs": [
    {
     "ename": "TypeError",
     "evalue": "withdraw() got an unexpected keyword argument 'fee'",
     "output_type": "error",
     "traceback": [
      "\u001b[0;31m---------------------------------------------------------------------------\u001b[0m",
      "\u001b[0;31mTypeError\u001b[0m                                 Traceback (most recent call last)",
      "\u001b[0;32m/tmp/ipykernel_93/2977754451.py\u001b[0m in \u001b[0;36m<module>\u001b[0;34m\u001b[0m\n\u001b[1;32m      1\u001b[0m \u001b[0;31m# Will produce an error\u001b[0m\u001b[0;34m\u001b[0m\u001b[0;34m\u001b[0m\u001b[0;34m\u001b[0m\u001b[0m\n\u001b[0;32m----> 2\u001b[0;31m \u001b[0mbank_acct\u001b[0m\u001b[0;34m.\u001b[0m\u001b[0mwithdraw\u001b[0m\u001b[0;34m(\u001b[0m\u001b[0;36m200\u001b[0m\u001b[0;34m,\u001b[0m \u001b[0mfee\u001b[0m\u001b[0;34m=\u001b[0m\u001b[0;36m15\u001b[0m\u001b[0;34m)\u001b[0m\u001b[0;34m\u001b[0m\u001b[0;34m\u001b[0m\u001b[0m\n\u001b[0m",
      "\u001b[0;31mTypeError\u001b[0m: withdraw() got an unexpected keyword argument 'fee'"
     ]
    }
   ],
   "source": [
    "# Will produce an error  \n",
    "bank_acct.withdraw(200, fee=15)"
   ]
  },
  {
   "cell_type": "code",
   "execution_count": null,
   "metadata": {
    "cell_id": "13c6808d5f8441769e0fc407706abf9b",
    "deepnote_cell_type": "code",
    "deepnote_to_be_reexecuted": false,
    "execution_millis": 34,
    "execution_start": 1700105672163,
    "source_hash": null
   },
   "outputs": [
    {
     "data": {
      "text/plain": [
       "300"
      ]
     },
     "execution_count": 93,
     "metadata": {},
     "output_type": "execute_result"
    }
   ],
   "source": [
    "check_acct.balance"
   ]
  },
  {
   "cell_type": "code",
   "execution_count": null,
   "metadata": {
    "cell_id": "7333d836de8948ebb05ec774610d2a02",
    "deepnote_cell_type": "code"
   },
   "outputs": [],
   "source": []
  },
  {
   "cell_type": "markdown",
   "metadata": {
    "created_in_deepnote_cell": true,
    "deepnote_cell_type": "markdown"
   },
   "source": [
    "<a style='text-decoration:none;line-height:16px;display:flex;color:#5B5B62;padding:10px;justify-content:end;' href='https://deepnote.com?utm_source=created-in-deepnote-cell&projectId=9d7d3e2f-71d5-43c9-951e-bea362fb428e' target=\"_blank\">\n",
    "<img alt='Created in deepnote.com' style='display:inline;max-height:16px;margin:0px;margin-right:7.5px;' src='data:image/svg+xml;base64,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' > </img>\n",
    "Created in <span style='font-weight:600;margin-left:4px;'>Deepnote</span></a>"
   ]
  }
 ],
 "metadata": {
  "deepnote": {},
  "deepnote_execution_queue": [],
  "deepnote_notebook_id": "053d0ca1d81d444cb0446bb3bf83de01",
  "deepnote_persisted_session": {
   "createdAt": "2023-11-16T03:37:22.762Z"
  },
  "kernelspec": {
   "display_name": "Python 3 (ipykernel)",
   "language": "python",
   "name": "python3"
  },
  "language_info": {
   "codemirror_mode": {
    "name": "ipython",
    "version": 3
   },
   "file_extension": ".py",
   "mimetype": "text/x-python",
   "name": "python",
   "nbconvert_exporter": "python",
   "pygments_lexer": "ipython3",
   "version": "3.8.10"
  }
 },
 "nbformat": 4,
 "nbformat_minor": 4
}
