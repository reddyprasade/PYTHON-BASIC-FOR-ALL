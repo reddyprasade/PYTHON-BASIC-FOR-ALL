{
 "cells": [
  {
   "cell_type": "code",
   "execution_count": null,
   "metadata": {
    "cell_id": "e0cc2938e6c24506bd0adeb3253f8144",
    "deepnote_cell_type": "code"
   },
   "outputs": [],
   "source": []
  },
  {
   "cell_type": "markdown",
   "metadata": {
    "cell_id": "fda45461c70c4acb83a041d963f7d695",
    "deepnote_cell_type": "markdown"
   },
   "source": [
    "# Strings"
   ]
  },
  {
   "cell_type": "markdown",
   "metadata": {
    "cell_id": "23e4eb5b22a44f9795b2fe855667f56b",
    "deepnote_cell_type": "markdown"
   },
   "source": [
    "Strings are ordered text based data which are represented by enclosing the same in single/double/triple quotes."
   ]
  },
  {
   "cell_type": "code",
   "execution_count": 1,
   "metadata": {
    "cell_id": "b1da8bc1591147f9b4113984252facb9",
    "deepnote_cell_type": "code"
   },
   "outputs": [],
   "source": [
    "String0 = 'Taj Mahal is beautiful'\n",
    "String1 = \"Taj Mahal is beautiful\"\n",
    "String2 = '''Taj Mahal\n",
    "is\n",
    "beautiful'''"
   ]
  },
  {
   "cell_type": "code",
   "execution_count": 2,
   "metadata": {
    "cell_id": "7c2851d0a0ca4f288b03b7264356dda5",
    "deepnote_cell_type": "code"
   },
   "outputs": [
    {
     "name": "stdout",
     "output_type": "stream",
     "text": [
      "Taj Mahal is beautiful <type 'str'>\n",
      "Taj Mahal is beautiful <type 'str'>\n",
      "Taj Mahal\n",
      "is\n",
      "beautiful <type 'str'>\n"
     ]
    }
   ],
   "source": [
    "print String0 , type(String0)\n",
    "print String1, type(String1)\n",
    "print String2, type(String2)"
   ]
  },
  {
   "cell_type": "markdown",
   "metadata": {
    "cell_id": "55b7028a27014fbca80bf5d3cb6ae4ce",
    "deepnote_cell_type": "markdown"
   },
   "source": [
    "String Indexing and Slicing are similar to Lists which was explained in detail earlier."
   ]
  },
  {
   "cell_type": "code",
   "execution_count": 3,
   "metadata": {
    "cell_id": "c1acb96604fe49dcbeb612bf3a031728",
    "deepnote_cell_type": "code"
   },
   "outputs": [
    {
     "name": "stdout",
     "output_type": "stream",
     "text": [
      "M\n",
      "Mahal is beautiful\n"
     ]
    }
   ],
   "source": [
    "print String0[4]\n",
    "print String0[4:]"
   ]
  },
  {
   "cell_type": "markdown",
   "metadata": {
    "cell_id": "c2ce90fdd60f4a75a508b7b9a3b36e67",
    "deepnote_cell_type": "markdown"
   },
   "source": [
    "### Built-in Functions"
   ]
  },
  {
   "cell_type": "markdown",
   "metadata": {
    "cell_id": "b99a9e36992043dba88f5da8ce6642bf",
    "deepnote_cell_type": "markdown"
   },
   "source": [
    "**find( )** function returns the index value of the given data that is to found in the string. If it is not found it returns **-1**. Remember to not confuse the returned -1 for reverse indexing value."
   ]
  },
  {
   "cell_type": "code",
   "execution_count": 4,
   "metadata": {
    "cell_id": "f64369ca5bf54273b614927d0b7f5ff4",
    "deepnote_cell_type": "code"
   },
   "outputs": [
    {
     "name": "stdout",
     "output_type": "stream",
     "text": [
      "7\n",
      "-1\n"
     ]
    }
   ],
   "source": [
    "print String0.find('al')\n",
    "print String0.find('am')"
   ]
  },
  {
   "cell_type": "markdown",
   "metadata": {
    "cell_id": "17b8d9fdd199401e8a14c2ff6774bc24",
    "deepnote_cell_type": "markdown"
   },
   "source": [
    "The index value returned is the index of the first element in the input data."
   ]
  },
  {
   "cell_type": "code",
   "execution_count": 5,
   "metadata": {
    "cell_id": "31f4101c616e4802ad24c26bfeaf727e",
    "deepnote_cell_type": "code"
   },
   "outputs": [
    {
     "name": "stdout",
     "output_type": "stream",
     "text": [
      "a\n"
     ]
    }
   ],
   "source": [
    "print String0[7]"
   ]
  },
  {
   "cell_type": "markdown",
   "metadata": {
    "cell_id": "b315e2af70b14dc296483c4fa0d5141b",
    "deepnote_cell_type": "markdown"
   },
   "source": [
    "One can also input **find( )** function between which index values it has to search."
   ]
  },
  {
   "cell_type": "code",
   "execution_count": 6,
   "metadata": {
    "cell_id": "d2020d9cc7104d84a1cd165bccfee68d",
    "deepnote_cell_type": "code"
   },
   "outputs": [
    {
     "name": "stdout",
     "output_type": "stream",
     "text": [
      "2\n",
      "2\n"
     ]
    }
   ],
   "source": [
    "print String0.find('j',1)\n",
    "print String0.find('j',1,3)"
   ]
  },
  {
   "cell_type": "markdown",
   "metadata": {
    "cell_id": "ad737e3431b14dfb8bf3b03b8500f0c5",
    "deepnote_cell_type": "markdown"
   },
   "source": [
    "**capitalize( )** is used to capitalize the first element in the string."
   ]
  },
  {
   "cell_type": "code",
   "execution_count": 7,
   "metadata": {
    "cell_id": "7a3c59339b394657ab5bef1519c529c7",
    "deepnote_cell_type": "code"
   },
   "outputs": [
    {
     "name": "stdout",
     "output_type": "stream",
     "text": [
      "Observe the first letter in this sentence.\n"
     ]
    }
   ],
   "source": [
    "String3 = 'observe the first letter in this sentence.'\n",
    "print String3.capitalize()"
   ]
  },
  {
   "cell_type": "markdown",
   "metadata": {
    "cell_id": "5c7664bf56d741f09bbd1014459d6790",
    "deepnote_cell_type": "markdown"
   },
   "source": [
    "**center( )** is used to center align the string by specifying the field width."
   ]
  },
  {
   "cell_type": "code",
   "execution_count": 8,
   "metadata": {
    "cell_id": "1886d0ffbffb43edbd0af41af1a5abf0",
    "deepnote_cell_type": "code"
   },
   "outputs": [
    {
     "data": {
      "text/plain": [
       "'                        Taj Mahal is beautiful                        '"
      ]
     },
     "execution_count": 8,
     "metadata": {},
     "output_type": "execute_result"
    }
   ],
   "source": [
    "String0.center(70)"
   ]
  },
  {
   "cell_type": "markdown",
   "metadata": {
    "cell_id": "a2fb699a048e47eea9dfee471d698af6",
    "deepnote_cell_type": "markdown"
   },
   "source": [
    "One can also fill the left out spaces with any other character."
   ]
  },
  {
   "cell_type": "code",
   "execution_count": 9,
   "metadata": {
    "cell_id": "efc588bcf5bc40df8eb84196dbd2b1b8",
    "deepnote_cell_type": "code"
   },
   "outputs": [
    {
     "data": {
      "text/plain": [
       "'------------------------Taj Mahal is beautiful------------------------'"
      ]
     },
     "execution_count": 9,
     "metadata": {},
     "output_type": "execute_result"
    }
   ],
   "source": [
    "String0.center(70,'-')"
   ]
  },
  {
   "cell_type": "markdown",
   "metadata": {
    "cell_id": "c54dffefcede476ab188a2f7ce2cec4d",
    "deepnote_cell_type": "markdown"
   },
   "source": [
    "**zfill( )** is used for zero padding by specifying the field width."
   ]
  },
  {
   "cell_type": "code",
   "execution_count": 10,
   "metadata": {
    "cell_id": "33fbdd0c73c24b96a2d37ea8bb5c5a41",
    "deepnote_cell_type": "code"
   },
   "outputs": [
    {
     "data": {
      "text/plain": [
       "'00000000Taj Mahal is beautiful'"
      ]
     },
     "execution_count": 10,
     "metadata": {},
     "output_type": "execute_result"
    }
   ],
   "source": [
    "String0.zfill(30)"
   ]
  },
  {
   "cell_type": "markdown",
   "metadata": {
    "cell_id": "a67ace514f30468fa143c885cf8b8748",
    "deepnote_cell_type": "markdown"
   },
   "source": [
    "**expandtabs( )** allows you to change the spacing of the tab character. '\\t' which is by default set to 8 spaces."
   ]
  },
  {
   "cell_type": "code",
   "execution_count": 11,
   "metadata": {
    "cell_id": "b1c8546881d541018eb44335f6294ee7",
    "deepnote_cell_type": "code"
   },
   "outputs": [
    {
     "name": "stdout",
     "output_type": "stream",
     "text": [
      "h\te\tl\tl\to\n",
      "h e l l o\n",
      "h       e       l       l       o\n"
     ]
    }
   ],
   "source": [
    "s = 'h\\te\\tl\\tl\\to'\n",
    "print s\n",
    "print s.expandtabs(1)\n",
    "print s.expandtabs()"
   ]
  },
  {
   "cell_type": "markdown",
   "metadata": {
    "cell_id": "47e095c1571948cabbad26587fe94b69",
    "collapsed": true,
    "deepnote_cell_type": "markdown",
    "jupyter": {
     "outputs_hidden": true
    }
   },
   "source": [
    "**index( )** works the same way as **find( )** function the only difference is find returns '-1' when the input element is not found in the string but **index( )** function throws a ValueError"
   ]
  },
  {
   "cell_type": "code",
   "execution_count": 12,
   "metadata": {
    "cell_id": "0add7f65731c458a8c00ed708cdeea98",
    "deepnote_cell_type": "code"
   },
   "outputs": [
    {
     "name": "stdout",
     "output_type": "stream",
     "text": [
      "0\n",
      "4\n"
     ]
    },
    {
     "ename": "ValueError",
     "evalue": "substring not found",
     "output_type": "error",
     "traceback": [
      "\u001b[0;31m---------------------------------------------------------------------------\u001b[0m",
      "\u001b[0;31mValueError\u001b[0m                                Traceback (most recent call last)",
      "\u001b[0;32m<ipython-input-12-6062e7a32deb>\u001b[0m in \u001b[0;36m<module>\u001b[0;34m()\u001b[0m\n\u001b[1;32m      1\u001b[0m \u001b[0;32mprint\u001b[0m \u001b[0mString0\u001b[0m\u001b[0;34m.\u001b[0m\u001b[0mindex\u001b[0m\u001b[0;34m(\u001b[0m\u001b[0;34m'Taj'\u001b[0m\u001b[0;34m)\u001b[0m\u001b[0;34m\u001b[0m\u001b[0m\n\u001b[1;32m      2\u001b[0m \u001b[0;32mprint\u001b[0m \u001b[0mString0\u001b[0m\u001b[0;34m.\u001b[0m\u001b[0mindex\u001b[0m\u001b[0;34m(\u001b[0m\u001b[0;34m'Mahal'\u001b[0m\u001b[0;34m,\u001b[0m\u001b[0;36m0\u001b[0m\u001b[0;34m)\u001b[0m\u001b[0;34m\u001b[0m\u001b[0m\n\u001b[0;32m----> 3\u001b[0;31m \u001b[0;32mprint\u001b[0m \u001b[0mString0\u001b[0m\u001b[0;34m.\u001b[0m\u001b[0mindex\u001b[0m\u001b[0;34m(\u001b[0m\u001b[0;34m'Mahal'\u001b[0m\u001b[0;34m,\u001b[0m\u001b[0;36m10\u001b[0m\u001b[0;34m,\u001b[0m\u001b[0;36m20\u001b[0m\u001b[0;34m)\u001b[0m\u001b[0;34m\u001b[0m\u001b[0m\n\u001b[0m",
      "\u001b[0;31mValueError\u001b[0m: substring not found"
     ]
    }
   ],
   "source": [
    "print String0.index('Taj')\n",
    "print String0.index('Mahal',0)\n",
    "print String0.index('Mahal',10,20)"
   ]
  },
  {
   "cell_type": "markdown",
   "metadata": {
    "cell_id": "d1721b45fb0a4f95a1db66a83a39c6d7",
    "deepnote_cell_type": "markdown"
   },
   "source": [
    "**endswith( )** function is used to check if the given string ends with the particular char which is given as input."
   ]
  },
  {
   "cell_type": "code",
   "execution_count": 13,
   "metadata": {
    "cell_id": "32195ac3e41448949d62d221420bb9ad",
    "deepnote_cell_type": "code"
   },
   "outputs": [
    {
     "name": "stdout",
     "output_type": "stream",
     "text": [
      "False\n"
     ]
    }
   ],
   "source": [
    "print String0.endswith('y')"
   ]
  },
  {
   "cell_type": "markdown",
   "metadata": {
    "cell_id": "d7ebc14794524825881bbf4d5d37fce2",
    "deepnote_cell_type": "markdown"
   },
   "source": [
    "The start and stop index values can also be specified."
   ]
  },
  {
   "cell_type": "code",
   "execution_count": 14,
   "metadata": {
    "cell_id": "58e1d11bb94e4125a96f84955f2f5323",
    "deepnote_cell_type": "code"
   },
   "outputs": [
    {
     "name": "stdout",
     "output_type": "stream",
     "text": [
      "True\n",
      "True\n"
     ]
    }
   ],
   "source": [
    "print String0.endswith('l',0)\n",
    "print String0.endswith('M',0,5)"
   ]
  },
  {
   "cell_type": "markdown",
   "metadata": {
    "cell_id": "6caf1eeba92c47df9da3c72c08b00582",
    "deepnote_cell_type": "markdown"
   },
   "source": [
    "**count( )** function counts the number of char in the given string. The start and the stop index can also be specified or left blank. (These are Implicit arguments which will be dealt in functions)"
   ]
  },
  {
   "cell_type": "code",
   "execution_count": 15,
   "metadata": {
    "cell_id": "7add34edbb4f4e36b5eb279959208bd8",
    "deepnote_cell_type": "code"
   },
   "outputs": [
    {
     "name": "stdout",
     "output_type": "stream",
     "text": [
      "4\n",
      "2\n"
     ]
    }
   ],
   "source": [
    "print String0.count('a',0)\n",
    "print String0.count('a',5,10)"
   ]
  },
  {
   "cell_type": "markdown",
   "metadata": {
    "cell_id": "39f69d45d6af45cc9097688704a79755",
    "deepnote_cell_type": "markdown"
   },
   "source": [
    "**join( )** function is used add a char in between the elements of the input string."
   ]
  },
  {
   "cell_type": "code",
   "execution_count": 16,
   "metadata": {
    "cell_id": "7bbf9d3e4cb74eb29f7df005a1f92d49",
    "deepnote_cell_type": "code"
   },
   "outputs": [
    {
     "data": {
      "text/plain": [
       "'*a_a-'"
      ]
     },
     "execution_count": 16,
     "metadata": {},
     "output_type": "execute_result"
    }
   ],
   "source": [
    "'a'.join('*_-')"
   ]
  },
  {
   "cell_type": "markdown",
   "metadata": {
    "cell_id": "cd9a026ac2d74166ba09dce4dc36b22f",
    "deepnote_cell_type": "markdown"
   },
   "source": [
    "'*_-' is the input string and char 'a' is added in between each element"
   ]
  },
  {
   "cell_type": "markdown",
   "metadata": {
    "cell_id": "d0e5749669df49c79299e39a13df08e1",
    "deepnote_cell_type": "markdown"
   },
   "source": [
    "**join( )** function can also be used to convert a list into a string."
   ]
  },
  {
   "cell_type": "code",
   "execution_count": 17,
   "metadata": {
    "cell_id": "38ef471285b44043a0f023b2df68c901",
    "deepnote_cell_type": "code"
   },
   "outputs": [
    {
     "name": "stdout",
     "output_type": "stream",
     "text": [
      "['T', 'a', 'j', ' ', 'M', 'a', 'h', 'a', 'l', ' ', 'i', 's', ' ', 'b', 'e', 'a', 'u', 't', 'i', 'f', 'u', 'l']\n",
      "Taj Mahal is beautiful\n"
     ]
    }
   ],
   "source": [
    "a = list(String0)\n",
    "print a\n",
    "b = ''.join(a)\n",
    "print b"
   ]
  },
  {
   "cell_type": "markdown",
   "metadata": {
    "cell_id": "2b78ed4dbe124ef4b16f7256f635b929",
    "deepnote_cell_type": "markdown"
   },
   "source": [
    "Before converting it into a string **join( )** function can be used to insert any char in between the list elements."
   ]
  },
  {
   "cell_type": "code",
   "execution_count": 18,
   "metadata": {
    "cell_id": "7c9d5a47f986498b90308ede92223c41",
    "deepnote_cell_type": "code"
   },
   "outputs": [
    {
     "name": "stdout",
     "output_type": "stream",
     "text": [
      " /i/s/ /b/e/a/u/t/i/f/u/l\n"
     ]
    }
   ],
   "source": [
    "c = '/'.join(a)[18:]\n",
    "print c"
   ]
  },
  {
   "cell_type": "markdown",
   "metadata": {
    "cell_id": "b46d5ae0d2204232b91784789268a1c6",
    "deepnote_cell_type": "markdown"
   },
   "source": [
    "**split( )** function is used to convert a string back to a list. Think of it as the opposite of the **join()** function."
   ]
  },
  {
   "cell_type": "code",
   "execution_count": 19,
   "metadata": {
    "cell_id": "add6d930cf9d425c88aeca3edfb8b824",
    "deepnote_cell_type": "code"
   },
   "outputs": [
    {
     "name": "stdout",
     "output_type": "stream",
     "text": [
      "[' ', 'i', 's', ' ', 'b', 'e', 'a', 'u', 't', 'i', 'f', 'u', 'l']\n"
     ]
    }
   ],
   "source": [
    "d = c.split('/')\n",
    "print d"
   ]
  },
  {
   "cell_type": "markdown",
   "metadata": {
    "cell_id": "c7d1a8b0c12a4e1c98da3f01959df923",
    "deepnote_cell_type": "markdown"
   },
   "source": [
    "In **split( )** function one can also specify the number of times you want to split the string or the number of elements the new returned list should conatin. The number of elements is always one more than the specified number this is because it is split the number of times specified."
   ]
  },
  {
   "cell_type": "code",
   "execution_count": 20,
   "metadata": {
    "cell_id": "08b7dd3cb58a41c3b249d72c3fb9e092",
    "deepnote_cell_type": "code"
   },
   "outputs": [
    {
     "name": "stdout",
     "output_type": "stream",
     "text": [
      "[' ', 'i', 's', ' /b/e/a/u/t/i/f/u/l']\n",
      "4\n"
     ]
    }
   ],
   "source": [
    "e = c.split('/',3)\n",
    "print e\n",
    "print len(e)"
   ]
  },
  {
   "cell_type": "markdown",
   "metadata": {
    "cell_id": "947adf04cf75421496794d663e774b87",
    "deepnote_cell_type": "markdown"
   },
   "source": [
    "**lower( )** converts any capital letter to small letter."
   ]
  },
  {
   "cell_type": "code",
   "execution_count": 21,
   "metadata": {
    "cell_id": "5259e08647054cb894960017cf08def6",
    "deepnote_cell_type": "code"
   },
   "outputs": [
    {
     "name": "stdout",
     "output_type": "stream",
     "text": [
      "Taj Mahal is beautiful\n",
      "taj mahal is beautiful\n"
     ]
    }
   ],
   "source": [
    "print String0\n",
    "print String0.lower()"
   ]
  },
  {
   "cell_type": "markdown",
   "metadata": {
    "cell_id": "28d04a4e3baf46a19346cf1f0a8e06dc",
    "deepnote_cell_type": "markdown"
   },
   "source": [
    "**upper( )** converts any small letter to capital letter."
   ]
  },
  {
   "cell_type": "code",
   "execution_count": 22,
   "metadata": {
    "cell_id": "11d01aacab14426281b24206fb5a5f0a",
    "deepnote_cell_type": "code"
   },
   "outputs": [
    {
     "data": {
      "text/plain": [
       "'TAJ MAHAL IS BEAUTIFUL'"
      ]
     },
     "execution_count": 22,
     "metadata": {},
     "output_type": "execute_result"
    }
   ],
   "source": [
    "String0.upper()"
   ]
  },
  {
   "cell_type": "markdown",
   "metadata": {
    "cell_id": "01507c8b6bde430bb42e2765ea13f06d",
    "deepnote_cell_type": "markdown"
   },
   "source": [
    "**replace( )** function replaces the element with another element."
   ]
  },
  {
   "cell_type": "code",
   "execution_count": 23,
   "metadata": {
    "cell_id": "391eda1c3236454f8bb124d1e66c037a",
    "deepnote_cell_type": "code"
   },
   "outputs": [
    {
     "data": {
      "text/plain": [
       "'Bengaluru is beautiful'"
      ]
     },
     "execution_count": 23,
     "metadata": {},
     "output_type": "execute_result"
    }
   ],
   "source": [
    "String0.replace('Taj Mahal','Bengaluru')"
   ]
  },
  {
   "cell_type": "markdown",
   "metadata": {
    "cell_id": "9cd43560064b4df6b58c2fa474809913",
    "deepnote_cell_type": "markdown"
   },
   "source": [
    "**strip( )** function is used to delete elements from the right end and the left end which is not required."
   ]
  },
  {
   "cell_type": "code",
   "execution_count": 24,
   "metadata": {
    "cell_id": "f2a40054e83b4792a89445be0e332dcd",
    "collapsed": true,
    "deepnote_cell_type": "code",
    "jupyter": {
     "outputs_hidden": true
    }
   },
   "outputs": [],
   "source": [
    "f = '    hello      '"
   ]
  },
  {
   "cell_type": "markdown",
   "metadata": {
    "cell_id": "7deaf57b9fad4f2eab2647c0369c61ea",
    "deepnote_cell_type": "markdown"
   },
   "source": [
    "If no char is specified then it will delete all the spaces that is present in the right and left hand side of the data."
   ]
  },
  {
   "cell_type": "code",
   "execution_count": 25,
   "metadata": {
    "cell_id": "0bd9ec6139f34c0a8f94ae7a8aea2d06",
    "deepnote_cell_type": "code"
   },
   "outputs": [
    {
     "data": {
      "text/plain": [
       "'hello'"
      ]
     },
     "execution_count": 25,
     "metadata": {},
     "output_type": "execute_result"
    }
   ],
   "source": [
    "f.strip()"
   ]
  },
  {
   "cell_type": "markdown",
   "metadata": {
    "cell_id": "a897404ab09946ef90477151d656e3e9",
    "deepnote_cell_type": "markdown"
   },
   "source": [
    "**strip( )** function, when a char is specified then it deletes that char if it is present in the two ends of the specified string."
   ]
  },
  {
   "cell_type": "code",
   "execution_count": 26,
   "metadata": {
    "cell_id": "6a14d82713cc44fbafbe0d02090b7acb",
    "collapsed": true,
    "deepnote_cell_type": "code",
    "jupyter": {
     "outputs_hidden": true
    }
   },
   "outputs": [],
   "source": [
    "f = '   ***----hello---*******     '"
   ]
  },
  {
   "cell_type": "code",
   "execution_count": 27,
   "metadata": {
    "cell_id": "944cf2dd61bd46159d4d27ae26da0f21",
    "deepnote_cell_type": "code"
   },
   "outputs": [
    {
     "data": {
      "text/plain": [
       "'   ***----hello---*******     '"
      ]
     },
     "execution_count": 27,
     "metadata": {},
     "output_type": "execute_result"
    }
   ],
   "source": [
    "f.strip('*')"
   ]
  },
  {
   "cell_type": "markdown",
   "metadata": {
    "cell_id": "4a899786b8ba4c788276c6c02d197876",
    "deepnote_cell_type": "markdown"
   },
   "source": [
    "The asterisk had to be deleted but is not. This is because there is a space in both the right and left hand side. So in strip function. The characters need to be inputted in the specific order in which they are present."
   ]
  },
  {
   "cell_type": "code",
   "execution_count": 28,
   "metadata": {
    "cell_id": "8896b33bb9084cc98aae02264e0cff2a",
    "deepnote_cell_type": "code"
   },
   "outputs": [
    {
     "name": "stdout",
     "output_type": "stream",
     "text": [
      "----hello---\n",
      "hello\n"
     ]
    }
   ],
   "source": [
    "print f.strip(' *')\n",
    "print f.strip(' *-')"
   ]
  },
  {
   "cell_type": "markdown",
   "metadata": {
    "cell_id": "3368fc76e6304b5297d439af24f9dc0b",
    "deepnote_cell_type": "markdown"
   },
   "source": [
    "**lstrip( )** and **rstrip( )** function have the same functionality as strip function but the only difference is **lstrip( )** deletes only towards the left side and **rstrip( )** towards the right."
   ]
  },
  {
   "cell_type": "code",
   "execution_count": 29,
   "metadata": {
    "cell_id": "525c1de8709740f8b7b0ab2db17bc910",
    "deepnote_cell_type": "code"
   },
   "outputs": [
    {
     "name": "stdout",
     "output_type": "stream",
     "text": [
      "----hello---*******     \n",
      "   ***----hello---\n"
     ]
    }
   ],
   "source": [
    "print f.lstrip(' *')\n",
    "print f.rstrip(' *')"
   ]
  },
  {
   "cell_type": "markdown",
   "metadata": {
    "cell_id": "67fb40b49bce4e68a45359b6b5540137",
    "deepnote_cell_type": "markdown"
   },
   "source": [
    "## Dictionaries"
   ]
  },
  {
   "cell_type": "markdown",
   "metadata": {
    "cell_id": "09a27a208c474c82b4f7b727ce39b553",
    "deepnote_cell_type": "markdown"
   },
   "source": [
    "Dictionaries are more used like a database because here you can index a particular sequence with your user defined string."
   ]
  },
  {
   "cell_type": "markdown",
   "metadata": {
    "cell_id": "deea8432bfc2405db63a62e5e818aefa",
    "deepnote_cell_type": "markdown"
   },
   "source": [
    "To define a dictionary, equate a variable to { } or dict()"
   ]
  },
  {
   "cell_type": "code",
   "execution_count": 1,
   "metadata": {
    "cell_id": "85c7653a97e643e5b1b4a902f5d03762",
    "deepnote_cell_type": "code"
   },
   "outputs": [
    {
     "name": "stdout",
     "output_type": "stream",
     "text": [
      "<class 'dict'> <class 'dict'>\n"
     ]
    }
   ],
   "source": [
    "d0 = {}\n",
    "d1 = dict()\n",
    "print (type(d0), type(d1))"
   ]
  },
  {
   "cell_type": "markdown",
   "metadata": {
    "cell_id": "8e2458bc9e424110aac48e79e313e675",
    "deepnote_cell_type": "markdown"
   },
   "source": [
    "Dictionary works somewhat like a list but with an added capability of assigning it's own index style."
   ]
  },
  {
   "cell_type": "code",
   "execution_count": 2,
   "metadata": {
    "cell_id": "0f6e7ef8833c492f88f531bd5f442c27",
    "deepnote_cell_type": "code"
   },
   "outputs": [
    {
     "name": "stdout",
     "output_type": "stream",
     "text": [
      "{'One': 1, 'OneTwo': 12}\n"
     ]
    }
   ],
   "source": [
    "d0['One'] = 1\n",
    "d0['OneTwo'] = 12 \n",
    "print (d0)"
   ]
  },
  {
   "cell_type": "markdown",
   "metadata": {
    "cell_id": "5abefd3e49bd48289d14056af70e6653",
    "deepnote_cell_type": "markdown"
   },
   "source": [
    "That is how a dictionary looks like. Now you are able to access '1' by the index value set at 'One'"
   ]
  },
  {
   "cell_type": "code",
   "execution_count": 32,
   "metadata": {
    "cell_id": "917294d211d544d9bb6dc3ecf380a90f",
    "deepnote_cell_type": "code"
   },
   "outputs": [
    {
     "name": "stdout",
     "output_type": "stream",
     "text": [
      "1\n"
     ]
    }
   ],
   "source": [
    "print d0['One']"
   ]
  },
  {
   "cell_type": "markdown",
   "metadata": {
    "cell_id": "dae3d49c620e4834ad73214b33aa8fd2",
    "deepnote_cell_type": "markdown"
   },
   "source": [
    "Two lists which are related can be merged to form a dictionary."
   ]
  },
  {
   "cell_type": "code",
   "execution_count": 33,
   "metadata": {
    "cell_id": "9eb36c0e25dc47dea23d7cc7f07ea1f2",
    "deepnote_cell_type": "code"
   },
   "outputs": [],
   "source": [
    "names = ['One', 'Two', 'Three', 'Four', 'Five']\n",
    "numbers = [1, 2, 3, 4, 5]"
   ]
  },
  {
   "cell_type": "markdown",
   "metadata": {
    "cell_id": "27e65b37329645149f24e74013d27261",
    "deepnote_cell_type": "markdown"
   },
   "source": [
    "**zip( )** function is used to combine two lists"
   ]
  },
  {
   "cell_type": "code",
   "execution_count": 34,
   "metadata": {
    "cell_id": "54129977a8f74f508fa4b3c8697f4c58",
    "deepnote_cell_type": "code"
   },
   "outputs": [
    {
     "name": "stdout",
     "output_type": "stream",
     "text": [
      "[('One', 1), ('Two', 2), ('Three', 3), ('Four', 4), ('Five', 5)]\n"
     ]
    }
   ],
   "source": [
    "d2 = zip(names,numbers)\n",
    "print d2"
   ]
  },
  {
   "cell_type": "markdown",
   "metadata": {
    "cell_id": "d2c386dd87004934b7d0922a040f6dc0",
    "deepnote_cell_type": "markdown"
   },
   "source": [
    "The two lists are combined to form a single list and each elements are clubbed with their respective elements from the other list inside a tuple. Tuples because that is what is assigned and the value should not change.\n",
    "\n",
    "Further, To convert the above into a dictionary. **dict( )** function is used."
   ]
  },
  {
   "cell_type": "code",
   "execution_count": 35,
   "metadata": {
    "cell_id": "bc75e83a574a49bfa7f503411fd4e667",
    "deepnote_cell_type": "code"
   },
   "outputs": [
    {
     "name": "stdout",
     "output_type": "stream",
     "text": [
      "{'Four': 4, 'Five': 5, 'Three': 3, 'Two': 2, 'One': 1}\n"
     ]
    }
   ],
   "source": [
    "a1 = dict(d2)\n",
    "print a1"
   ]
  },
  {
   "cell_type": "markdown",
   "metadata": {
    "cell_id": "2b1d8ed6c5204ca684933f6461cb0f4b",
    "deepnote_cell_type": "markdown"
   },
   "source": [
    "### Built-in Functions"
   ]
  },
  {
   "cell_type": "markdown",
   "metadata": {
    "cell_id": "e17222a20a214cfda87ce673b9fd7611",
    "deepnote_cell_type": "markdown"
   },
   "source": [
    "**clear( )** function is used to erase the entire database that was created."
   ]
  },
  {
   "cell_type": "code",
   "execution_count": 36,
   "metadata": {
    "cell_id": "9e4754f05bb946c1926834e6f55de689",
    "deepnote_cell_type": "code"
   },
   "outputs": [
    {
     "name": "stdout",
     "output_type": "stream",
     "text": [
      "{}\n"
     ]
    }
   ],
   "source": [
    "a1.clear()\n",
    "print a1"
   ]
  },
  {
   "cell_type": "markdown",
   "metadata": {
    "cell_id": "d9cb0d26b45a41778ef570fe91212eaf",
    "deepnote_cell_type": "markdown"
   },
   "source": [
    "Dictionary can also be built using loops."
   ]
  },
  {
   "cell_type": "code",
   "execution_count": 37,
   "metadata": {
    "cell_id": "82beb285fd7d4c9b8f2d90aac7a2a0d7",
    "deepnote_cell_type": "code"
   },
   "outputs": [
    {
     "name": "stdout",
     "output_type": "stream",
     "text": [
      "{'Four': 4, 'Five': 5, 'Three': 3, 'Two': 2, 'One': 1}\n"
     ]
    }
   ],
   "source": [
    "for i in range(len(names)):\n",
    "    a1[names[i]] = numbers[i]\n",
    "print a1"
   ]
  },
  {
   "cell_type": "markdown",
   "metadata": {
    "cell_id": "81169694cd9c42ccac4deb0b01966068",
    "deepnote_cell_type": "markdown"
   },
   "source": [
    "**values( )** function returns a list with all the assigned values in the dictionary."
   ]
  },
  {
   "cell_type": "code",
   "execution_count": 38,
   "metadata": {
    "cell_id": "7cbf59dc9b6b45dc8f98299b0745a3c8",
    "deepnote_cell_type": "code"
   },
   "outputs": [
    {
     "data": {
      "text/plain": [
       "[4, 5, 3, 2, 1]"
      ]
     },
     "execution_count": 38,
     "metadata": {},
     "output_type": "execute_result"
    }
   ],
   "source": [
    "a1.values()"
   ]
  },
  {
   "cell_type": "markdown",
   "metadata": {
    "cell_id": "4ed8a901aa0c4e2391fe7f8396b6a65e",
    "deepnote_cell_type": "markdown"
   },
   "source": [
    "**keys( )** function returns all the index or the keys to which contains the values that it was assigned to."
   ]
  },
  {
   "cell_type": "code",
   "execution_count": 39,
   "metadata": {
    "cell_id": "7e12e8daa97a4fa1862b4377354cecfb",
    "deepnote_cell_type": "code"
   },
   "outputs": [
    {
     "data": {
      "text/plain": [
       "['Four', 'Five', 'Three', 'Two', 'One']"
      ]
     },
     "execution_count": 39,
     "metadata": {},
     "output_type": "execute_result"
    }
   ],
   "source": [
    "a1.keys()"
   ]
  },
  {
   "cell_type": "markdown",
   "metadata": {
    "cell_id": "d4920733b86f4452837298b3df265ec0",
    "deepnote_cell_type": "markdown"
   },
   "source": [
    "**items( )** is returns a list containing both the list but each element in the dictionary is inside a tuple. This is same as the result that was obtained when zip function was used."
   ]
  },
  {
   "cell_type": "code",
   "execution_count": 40,
   "metadata": {
    "cell_id": "881108cd06674e3b85420aee506cd3b8",
    "deepnote_cell_type": "code"
   },
   "outputs": [
    {
     "data": {
      "text/plain": [
       "[('Four', 4), ('Five', 5), ('Three', 3), ('Two', 2), ('One', 1)]"
      ]
     },
     "execution_count": 40,
     "metadata": {},
     "output_type": "execute_result"
    }
   ],
   "source": [
    "a1.items()"
   ]
  },
  {
   "cell_type": "markdown",
   "metadata": {
    "cell_id": "11ae87158a9840c59d27d44beb9e211f",
    "deepnote_cell_type": "markdown"
   },
   "source": [
    "**pop( )** function is used to get the remove that particular element and this removed element can be assigned to a new variable. But remember only the value is stored and not the key. Because the is just a index value."
   ]
  },
  {
   "cell_type": "code",
   "execution_count": 41,
   "metadata": {
    "cell_id": "e4c5cffcad474b1e8e685850004b68a1",
    "deepnote_cell_type": "code"
   },
   "outputs": [
    {
     "name": "stdout",
     "output_type": "stream",
     "text": [
      "{'Five': 5, 'Three': 3, 'Two': 2, 'One': 1}\n",
      "4\n"
     ]
    }
   ],
   "source": [
    "a2 = a1.pop('Four')\n",
    "print a1\n",
    "print a2"
   ]
  },
  {
   "cell_type": "markdown",
   "metadata": {
    "created_in_deepnote_cell": true,
    "deepnote_cell_type": "markdown"
   },
   "source": [
    "<a style='text-decoration:none;line-height:16px;display:flex;color:#5B5B62;padding:10px;justify-content:end;' href='https://deepnote.com?utm_source=created-in-deepnote-cell&projectId=9d7d3e2f-71d5-43c9-951e-bea362fb428e' target=\"_blank\">\n",
    "<img alt='Created in deepnote.com' style='display:inline;max-height:16px;margin:0px;margin-right:7.5px;' src='data:image/svg+xml;base64,PD94bWwgdmVyc2lvbj0iMS4wIiBlbmNvZGluZz0iVVRGLTgiPz4KPHN2ZyB3aWR0aD0iODBweCIgaGVpZ2h0PSI4MHB4IiB2aWV3Qm94PSIwIDAgODAgODAiIHZlcnNpb249IjEuMSIgeG1sbnM9Imh0dHA6Ly93d3cudzMub3JnLzIwMDAvc3ZnIiB4bWxuczp4bGluaz0iaHR0cDovL3d3dy53My5vcmcvMTk5OS94bGluayI+CiAgICA8IS0tIEdlbmVyYXRvcjogU2tldGNoIDU0LjEgKDc2NDkwKSAtIGh0dHBzOi8vc2tldGNoYXBwLmNvbSAtLT4KICAgIDx0aXRsZT5Hcm91cCAzPC90aXRsZT4KICAgIDxkZXNjPkNyZWF0ZWQgd2l0aCBTa2V0Y2guPC9kZXNjPgogICAgPGcgaWQ9IkxhbmRpbmciIHN0cm9rZT0ibm9uZSIgc3Ryb2tlLXdpZHRoPSIxIiBmaWxsPSJub25lIiBmaWxsLXJ1bGU9ImV2ZW5vZGQiPgogICAgICAgIDxnIGlkPSJBcnRib2FyZCIgdHJhbnNmb3JtPSJ0cmFuc2xhdGUoLTEyMzUuMDAwMDAwLCAtNzkuMDAwMDAwKSI+CiAgICAgICAgICAgIDxnIGlkPSJHcm91cC0zIiB0cmFuc2Zvcm09InRyYW5zbGF0ZSgxMjM1LjAwMDAwMCwgNzkuMDAwMDAwKSI+CiAgICAgICAgICAgICAgICA8cG9seWdvbiBpZD0iUGF0aC0yMCIgZmlsbD0iIzAyNjVCNCIgcG9pbnRzPSIyLjM3NjIzNzYyIDgwIDM4LjA0NzY2NjcgODAgNTcuODIxNzgyMiA3My44MDU3NTkyIDU3LjgyMTc4MjIgMzIuNzU5MjczOSAzOS4xNDAyMjc4IDMxLjY4MzE2ODMiPjwvcG9seWdvbj4KICAgICAgICAgICAgICAgIDxwYXRoIGQ9Ik0zNS4wMDc3MTgsODAgQzQyLjkwNjIwMDcsNzYuNDU0OTM1OCA0Ny41NjQ5MTY3LDcxLjU0MjI2NzEgNDguOTgzODY2LDY1LjI2MTk5MzkgQzUxLjExMjI4OTksNTUuODQxNTg0MiA0MS42NzcxNzk1LDQ5LjIxMjIyODQgMjUuNjIzOTg0Niw0OS4yMTIyMjg0IEMyNS40ODQ5Mjg5LDQ5LjEyNjg0NDggMjkuODI2MTI5Niw0My4yODM4MjQ4IDM4LjY0NzU4NjksMzEuNjgzMTY4MyBMNzIuODcxMjg3MSwzMi41NTQ0MjUgTDY1LjI4MDk3Myw2Ny42NzYzNDIxIEw1MS4xMTIyODk5LDc3LjM3NjE0NCBMMzUuMDA3NzE4LDgwIFoiIGlkPSJQYXRoLTIyIiBmaWxsPSIjMDAyODY4Ij48L3BhdGg+CiAgICAgICAgICAgICAgICA8cGF0aCBkPSJNMCwzNy43MzA0NDA1IEwyNy4xMTQ1MzcsMC4yNTcxMTE0MzYgQzYyLjM3MTUxMjMsLTEuOTkwNzE3MDEgODAsMTAuNTAwMzkyNyA4MCwzNy43MzA0NDA1IEM4MCw2NC45NjA0ODgyIDY0Ljc3NjUwMzgsNzkuMDUwMzQxNCAzNC4zMjk1MTEzLDgwIEM0Ny4wNTUzNDg5LDc3LjU2NzA4MDggNTMuNDE4MjY3Nyw3MC4zMTM2MTAzIDUzLjQxODI2NzcsNTguMjM5NTg4NSBDNTMuNDE4MjY3Nyw0MC4xMjg1NTU3IDM2LjMwMzk1NDQsMzcuNzMwNDQwNSAyNS4yMjc0MTcsMzcuNzMwNDQwNSBDMTcuODQzMDU4NiwzNy43MzA0NDA1IDkuNDMzOTE5NjYsMzcuNzMwNDQwNSAwLDM3LjczMDQ0MDUgWiIgaWQ9IlBhdGgtMTkiIGZpbGw9IiMzNzkzRUYiPjwvcGF0aD4KICAgICAgICAgICAgPC9nPgogICAgICAgIDwvZz4KICAgIDwvZz4KPC9zdmc+' > </img>\n",
    "Created in <span style='font-weight:600;margin-left:4px;'>Deepnote</span></a>"
   ]
  }
 ],
 "metadata": {
  "deepnote": {},
  "deepnote_execution_queue": [],
  "deepnote_notebook_id": "7071ed15303e4dd18844e2430c3f253a",
  "kernelspec": {
   "display_name": "Python 3 (ipykernel)",
   "language": "python",
   "name": "python3"
  },
  "language_info": {
   "codemirror_mode": {
    "name": "ipython",
    "version": 3
   },
   "file_extension": ".py",
   "mimetype": "text/x-python",
   "name": "python",
   "nbconvert_exporter": "python",
   "pygments_lexer": "ipython3",
   "version": "3.8.10"
  }
 },
 "nbformat": 4,
 "nbformat_minor": 4
}
