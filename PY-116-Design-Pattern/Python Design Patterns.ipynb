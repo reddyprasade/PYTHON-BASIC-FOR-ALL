{
 "cells": [
  {
   "cell_type": "markdown",
   "id": "67ee5cd8-bd39-4bf6-8de4-1d6f2ccf279b",
   "metadata": {},
   "source": [
    "## Creational Design Pattern\n",
    "\n",
    "1. Factory Method\n",
    "2. Abstract Factory Method\n",
    "3. Builder Method\n",
    "4. Prototype Method\n",
    "5. Singleton Method"
   ]
  },
  {
   "cell_type": "code",
   "execution_count": 1,
   "id": "cfaddf51-9217-4c27-8c9a-fe229237b55f",
   "metadata": {},
   "outputs": [],
   "source": [
    "  # In serializer_demo.py\n",
    "\n",
    "import json\n",
    "import xml.etree.ElementTree as et\n",
    "\n",
    "class Song:\n",
    "    def __init__(self, song_id, title, artist):\n",
    "        self.song_id = song_id\n",
    "        self.title = title\n",
    "        self.artist = artist\n",
    "\n",
    "\n",
    "class SongSerializer:\n",
    "    def serialize(self, song, format):\n",
    "        if format == 'JSON':\n",
    "            song_info = {\n",
    "                'id': song.song_id,\n",
    "                'title': song.title,\n",
    "                'artist': song.artist\n",
    "            }\n",
    "            return json.dumps(song_info)\n",
    "        elif format == 'XML':\n",
    "            song_info = et.Element('song', attrib={'id': song.song_id})\n",
    "            title = et.SubElement(song_info, 'title')\n",
    "            title.text = song.title\n",
    "            artist = et.SubElement(song_info, 'artist')\n",
    "            artist.text = song.artist\n",
    "            return et.tostring(song_info, encoding='unicode')\n",
    "        else:\n",
    "            raise ValueError(format)"
   ]
  },
  {
   "cell_type": "code",
   "execution_count": 5,
   "id": "f12e8ba9-dc1a-4cb7-ba1b-26575c5d1742",
   "metadata": {},
   "outputs": [],
   "source": [
    "song = Song('1', 'Water of Love', 'Dire Straits')"
   ]
  },
  {
   "cell_type": "code",
   "execution_count": 6,
   "id": "c28bddec-c3f3-4a03-aca0-e47e49c9e655",
   "metadata": {},
   "outputs": [],
   "source": [
    "serializer = SongSerializer()"
   ]
  },
  {
   "cell_type": "code",
   "execution_count": 7,
   "id": "6668fbd5-eae6-432b-9fac-64d379d8f23a",
   "metadata": {},
   "outputs": [
    {
     "data": {
      "text/plain": [
       "'{\"id\": \"1\", \"title\": \"Water of Love\", \"artist\": \"Dire Straits\"}'"
      ]
     },
     "execution_count": 7,
     "metadata": {},
     "output_type": "execute_result"
    }
   ],
   "source": [
    "serializer.serialize(song, 'JSON')"
   ]
  },
  {
   "cell_type": "code",
   "execution_count": 8,
   "id": "80245b2d-8187-4179-8a72-4be6667e1316",
   "metadata": {},
   "outputs": [
    {
     "data": {
      "text/plain": [
       "'<song id=\"1\"><title>Water of Love</title><artist>Dire Straits</artist></song>'"
      ]
     },
     "execution_count": 8,
     "metadata": {},
     "output_type": "execute_result"
    }
   ],
   "source": [
    "serializer.serialize(song, 'XML')"
   ]
  },
  {
   "cell_type": "markdown",
   "id": "4993a66c-a039-4295-98b2-f46bef3729c1",
   "metadata": {},
   "source": [
    "### Behavioral Design Pattern:\n",
    "\n",
    "- Behavioral patterns are all about identifying the common communication patterns between objects and realize these patterns.\n",
    "\n",
    "\n",
    "\n",
    "\n",
    "1. Chain of Responsibility Method\n",
    "2. \n",
    "Command Metho\n",
    "3. \r\n",
    "Iterator Meth\n",
    "4. d\r\n",
    "Mediator Met\n",
    "5. od\r\n",
    "Memento Me\n",
    "6. hod\r\n",
    "Observer M\n",
    "7. thod\r\n",
    "State \n",
    "8. ethod\r\n",
    "Strategy\n",
    "9. Method\r\n",
    "Templat\n",
    "10.  Method\r\n",
    "Visitor Method"
   ]
  },
  {
   "cell_type": "code",
   "execution_count": 13,
   "id": "4f783c26-23fd-4986-ab96-24b85774a818",
   "metadata": {},
   "outputs": [],
   "source": [
    "def handle_issue(issue_type, issue_details):\n",
    "    if issue_type == \"payment\":\n",
    "        # direct to payment specialist\n",
    "        pass\n",
    "    elif issue_type == \"shipping\":\n",
    "        # direct to shipping specialist\n",
    "    # ... and so on for every type of issue\n",
    "        pass"
   ]
  },
  {
   "cell_type": "code",
   "execution_count": 14,
   "id": "d4aa4cdf-4615-4289-b153-da03706fc7b8",
   "metadata": {},
   "outputs": [],
   "source": [
    "class SupportAgent:\n",
    "    def __init__(self, specialty, next_agent=None):\n",
    "        self.specialty = specialty\n",
    "        self.next_agent = next_agent\n",
    "\n",
    "    def handle_issue(self, issue_type, issue_details):\n",
    "        if issue_type == self.specialty:\n",
    "            # handle the issue\n",
    "            print(f\"Handled {issue_type} issue by {self.specialty} specialist.\")\n",
    "        elif self.next_agent:\n",
    "            self.next_agent.handle_issue(issue_type, issue_details)\n",
    "        else:\n",
    "            print(\"Issue couldn't be handled.\")"
   ]
  },
  {
   "cell_type": "code",
   "execution_count": 15,
   "id": "fe679370-e9f7-425a-8a34-b4e18c0b69ff",
   "metadata": {},
   "outputs": [],
   "source": [
    "# Create a chain of agents\n",
    "payment_agent = SupportAgent(\"payment\")"
   ]
  },
  {
   "cell_type": "code",
   "execution_count": 18,
   "id": "225fbcaa-5d10-410e-94ff-d2ae602bb67d",
   "metadata": {},
   "outputs": [
    {
     "data": {
      "text/plain": [
       "<__main__.SupportAgent at 0x1bfd9a46700>"
      ]
     },
     "execution_count": 18,
     "metadata": {},
     "output_type": "execute_result"
    }
   ],
   "source": [
    "shipping_agent = SupportAgent(\"shipping\", payment_agent)\n",
    "shipping_agent"
   ]
  },
  {
   "cell_type": "code",
   "execution_count": 19,
   "id": "eac15b9f-e02c-494a-b67b-aef8df45f8df",
   "metadata": {},
   "outputs": [
    {
     "name": "stdout",
     "output_type": "stream",
     "text": [
      "Handled payment issue by payment specialist.\n"
     ]
    }
   ],
   "source": [
    "# Raise an issue\n",
    "shipping_agent.handle_issue(\"payment\", \"Payment declined.\")"
   ]
  },
  {
   "cell_type": "code",
   "execution_count": 9,
   "id": "8b3bb0c7-3b4f-4fc1-8265-966f88caf416",
   "metadata": {},
   "outputs": [],
   "source": [
    "\n",
    "import abc\n",
    "import random\n",
    "\n",
    "# Result class that stores all results for futher calculations\n",
    "class Blackboard(object):\n",
    "    def __init__(self):\n",
    "        self.ks = []\n",
    "        self.common_state = {\n",
    "            'results': 0,\n",
    "            'ks_list': [],\n",
    "            'progress': 0   # percentage, if 100 -> task is finished\n",
    "        }\n",
    "\n",
    "    def add_ks(self, ks):\n",
    "        self.ks.append(ks)\n",
    "\n",
    "# Our Controller class that runs all KnowledgeSource methods\n",
    "# It can be used to configure KS before caluclations with entry data"
   ]
  },
  {
   "cell_type": "code",
   "execution_count": 10,
   "id": "8498529f-e6ba-453c-8d1a-6763ad2ba8a0",
   "metadata": {},
   "outputs": [],
   "source": [
    "class Controller(object):\n",
    "\n",
    "    def __init__(self, blackboard):\n",
    "        self.blackboard = blackboard\n",
    "\n",
    "    def run_loop(self):\n",
    "        while self.blackboard.common_state['progress'] < 100:\n",
    "            for ks in self.blackboard.ks:\n",
    "                if ks.is_ready:\n",
    "                    ks.calculate_result()\n",
    "        return self.blackboard.common_state['ks_list']"
   ]
  },
  {
   "cell_type": "code",
   "execution_count": 11,
   "id": "f67bbf5e-0522-4235-a101-47cc0d473d64",
   "metadata": {},
   "outputs": [],
   "source": [
    "# Abstract class/interface to ensure that all KnowledgeSource classes have the same methods to be invoked\n",
    "class AbstractKS(object):\n",
    "    __metaclass__ = abc.ABCMeta\n",
    "\n",
    "    def __init__(self, blackboard):\n",
    "        self.blackboard = blackboard\n",
    "\n",
    "    @abc.abstractmethod\n",
    "    def is_ready(self):\n",
    "        raise NotImplementedError('Must provide implementation in subclass.')\n",
    "\n",
    "    @abc.abstractmethod\n",
    "    def calculate_result(self):\n",
    "        raise NotImplementedError('Must provide implementation in subclass.')"
   ]
  },
  {
   "cell_type": "code",
   "execution_count": 12,
   "id": "d82b7953-28b2-400a-a347-335a3742c335",
   "metadata": {},
   "outputs": [
    {
     "name": "stdout",
     "output_type": "stream",
     "text": [
      "{'ks_list': ['KS_Type0',\n",
      "             'KS_Type1',\n",
      "             'KS_Type0',\n",
      "             'KS_Type1',\n",
      "             'KS_Type0',\n",
      "             'KS_Type1',\n",
      "             'KS_Type0',\n",
      "             'KS_Type1',\n",
      "             'KS_Type0',\n",
      "             'KS_Type1',\n",
      "             'KS_Type0',\n",
      "             'KS_Type1',\n",
      "             'KS_Type0',\n",
      "             'KS_Type1',\n",
      "             'KS_Type0',\n",
      "             'KS_Type1',\n",
      "             'KS_Type0',\n",
      "             'KS_Type1',\n",
      "             'KS_Type0',\n",
      "             'KS_Type1',\n",
      "             'KS_Type0',\n",
      "             'KS_Type1',\n",
      "             'KS_Type0',\n",
      "             'KS_Type1',\n",
      "             'KS_Type0',\n",
      "             'KS_Type1',\n",
      "             'KS_Type0',\n",
      "             'KS_Type1',\n",
      "             'KS_Type0',\n",
      "             'KS_Type1',\n",
      "             'KS_Type0',\n",
      "             'KS_Type1',\n",
      "             'KS_Type0',\n",
      "             'KS_Type1',\n",
      "             'KS_Type0',\n",
      "             'KS_Type1',\n",
      "             'KS_Type0',\n",
      "             'KS_Type1',\n",
      "             'KS_Type0',\n",
      "             'KS_Type1',\n",
      "             'KS_Type0',\n",
      "             'KS_Type1',\n",
      "             'KS_Type0',\n",
      "             'KS_Type1',\n",
      "             'KS_Type0',\n",
      "             'KS_Type1',\n",
      "             'KS_Type0',\n",
      "             'KS_Type1'],\n",
      " 'progress': 105,\n",
      " 'results': 327}\n"
     ]
    }
   ],
   "source": [
    "# KnowledgeSource type N, it could be f.e.\n",
    "# - database source and business logic\n",
    "# - some data science calucations that needs to be added to even more complext data calculations\n",
    "# - speech recognition\n",
    "# - and so on so forth...\n",
    "class KS_Type0(AbstractKS):\n",
    "    def is_ready(self):\n",
    "        return random.randint(0,1)\n",
    "\n",
    "    def calculate_result(self):\n",
    "        self.blackboard.common_state['results'] += random.randint(1, 10)\n",
    "        self.blackboard.common_state['ks_list'] += [self.__class__.__name__]\n",
    "        self.blackboard.common_state['progress'] += random.randint(1, 2)\n",
    "\n",
    "class KS_Type1(AbstractKS):\n",
    "    def is_ready(self):\n",
    "        return True # let's say this one is obligatory\n",
    "\n",
    "    def calculate_result(self):\n",
    "        self.blackboard.common_state['results'] += random.randint(5, 10)\n",
    "        self.blackboard.common_state['ks_list'] += [self.__class__.__name__]\n",
    "        self.blackboard.common_state['progress'] += random.randint(2, 4)\n",
    "\n",
    "## Execute\n",
    "if __name__ == '__main__':\n",
    "    blackboard = Blackboard()\n",
    "\n",
    "    blackboard.add_ks(KS_Type0(blackboard))\n",
    "    blackboard.add_ks(KS_Type1(blackboard))\n",
    "\n",
    "    c = Controller(blackboard)\n",
    "    contributions = c.run_loop()\n",
    "\n",
    "    from pprint import pprint\n",
    "    pprint(blackboard.common_state)"
   ]
  },
  {
   "cell_type": "code",
   "execution_count": null,
   "id": "1678a839-44a1-45b4-b14c-cf55144695b4",
   "metadata": {},
   "outputs": [],
   "source": []
  },
  {
   "cell_type": "markdown",
   "id": "1404e9e3-904c-487a-980f-61f30be50896",
   "metadata": {},
   "source": [
    "### Structural Design Patterns:\n",
    "\n",
    "1. Adapter Method\n",
    "2. \n",
    "Bridge Metho\n",
    "3. \r\n",
    "Composite Meth\n",
    "4. d\r\n",
    "Decorator Met\n",
    "5. od\r\n",
    "Facade Me\n",
    "6. hod\r\n",
    "Proxy M\n",
    "7. thod\r\n",
    "FlyWeight Method"
   ]
  },
  {
   "cell_type": "code",
   "execution_count": null,
   "id": "142638a3-3dc5-4c16-b9db-b815bf826580",
   "metadata": {},
   "outputs": [],
   "source": []
  }
 ],
 "metadata": {
  "kernelspec": {
   "display_name": "Python 3 (ipykernel)",
   "language": "python",
   "name": "python3"
  },
  "language_info": {
   "codemirror_mode": {
    "name": "ipython",
    "version": 3
   },
   "file_extension": ".py",
   "mimetype": "text/x-python",
   "name": "python",
   "nbconvert_exporter": "python",
   "pygments_lexer": "ipython3",
   "version": "3.8.10"
  }
 },
 "nbformat": 4,
 "nbformat_minor": 5
}
